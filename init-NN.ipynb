{
 "cells": [
  {
   "cell_type": "code",
   "execution_count": 1,
   "id": "b55b9f2f",
   "metadata": {},
   "outputs": [],
   "source": [
    "import numpy as np\n",
    "import pandas as pd\n",
    "import os\n",
    "import random\n",
    "from sklearn.model_selection import train_test_split\n",
    "from sklearn.linear_model import SGDClassifier\n",
    "import math\n",
    "from data_partition import DistributedDataSet\n",
    "from init_ipfs_nodes import create_ipfs_nodes\n",
    "import ipfshttpclient\n",
    "import piskg\n",
    "import copy\n",
    "import multiprocessing\n",
    "from multiprocessing.pool import ThreadPool\n",
    "from datetime import datetime\n",
    "from datetime import timedelta\n",
    "import json\n",
    "import time\n",
    "from web3 import Web3, HTTPProvider\n",
    "import json\n",
    "import warnings\n",
    "warnings.filterwarnings('ignore')"
   ]
  },
  {
   "cell_type": "code",
   "execution_count": 2,
   "id": "086a3b90",
   "metadata": {},
   "outputs": [],
   "source": [
    "# train = pd.read_csv(\"dataset/train.csv\")\n",
    "# test = pd.read_csv(\"dataset/test.csv\")"
   ]
  },
  {
   "cell_type": "code",
   "execution_count": 3,
   "id": "4285e88c",
   "metadata": {},
   "outputs": [],
   "source": [
    "CLIENTS = 8 #don't set more than 9 because of IPFS initialization script\n",
    "CLIENT_GRAPH = {\n",
    "    0: [1, 4],\n",
    "    1: [0, 5, 2],\n",
    "    2: [3, 1],\n",
    "    3: [2, 4, 6],\n",
    "    4: [3, 7, 0],\n",
    "    5: [1],\n",
    "    6: [3],\n",
    "    7: [4]\n",
    "}\n",
    "\n",
    "# CLIENTS = 4 #don't set more than 9 because of IPFS initialization script\n",
    "# CLIENT_GRAPH = {\n",
    "#     0: [1, 2],\n",
    "#     1: [0, 3],\n",
    "#     2: [0, 3],\n",
    "#     3: [1, 2],\n",
    "# }\n",
    "\n",
    "SEED = 0\n",
    "ROUNDS = 5\n",
    "BATCH_SIZE = 30 # prefereably set as a multiple of the number of unique classes in y\n",
    "\n",
    "#supports only pandas dataframe for now. \n",
    "#input values should be labelled as x0, x1, etc. \n",
    "#output values should be labelled as y\n",
    "DATASET = pd.read_csv(\"dataset/train.csv\")\n",
    "\n",
    "\n",
    "server = Web3(HTTPProvider('http://localhost:8545'))\n",
    "CONTRACT_ADDRESS = server.toChecksumAddress(\"0xab4b39212bF5BE56Fe755a7562A62Af2f71e368B\")\n",
    "DEFAULT_ADDRESS  = server.toChecksumAddress(server.eth.accounts[0])\n",
    "with open('../blkTrial/HelloWorld/build/contracts/Model.json') as f:\n",
    "    CONTRACT_DATA = json.load(f)\n",
    "CONTRACT_ABI = CONTRACT_DATA['abi']\n",
    "BLKCHAIN_ACCOUNTS = server.eth.accounts"
   ]
  },
  {
   "cell_type": "code",
   "execution_count": 4,
   "id": "51aac34c",
   "metadata": {},
   "outputs": [],
   "source": [
    "dd = DistributedDataSet(DATASET, SEED, BATCH_SIZE, CLIENTS)\n",
    "df_di, test = dd.get_distributed_dataset(0.1, 'label')"
   ]
  },
  {
   "cell_type": "code",
   "execution_count": 5,
   "id": "a45253d4",
   "metadata": {},
   "outputs": [
    {
     "name": "stdout",
     "output_type": "stream",
     "text": [
      "generating ED25519 keypair...done\n",
      "peer identity: 12D3KooWHiHSXnWk5kTQgx2Z4VLzTD55abSrEeK4LjwMNCtKojEQ\n",
      "initializing IPFS node at /home/hitesh/.ipfs_fl0\n",
      "to get started, enter:\n",
      "\n",
      "\tipfs cat /ipfs/QmQPeNsJPyVWPFDVHb77w8G42Fvo15z4bG2X8D2GhfbSXc/readme\n",
      "\n",
      "removed /dnsaddr/bootstrap.libp2p.io/p2p/QmNnooDu7bfjPFoTZYxMNLWUQJyrVwtbZg5gBMjTezGAJN\n",
      "removed /dnsaddr/bootstrap.libp2p.io/p2p/QmQCU2EcMqAqQPR2i9bChDtGNJchTbq5TbXJJ16u19uLTa\n",
      "removed /dnsaddr/bootstrap.libp2p.io/p2p/QmbLHAnMoJPWSCR5Zhtx6BHJX9KiKNN6tpvbUcqanj75Nb\n",
      "removed /dnsaddr/bootstrap.libp2p.io/p2p/QmcZf59bWwK5XFi76CZX8cbJ4BhTzzA3gU1ZjYZcYW3dwt\n",
      "removed /ip4/104.131.131.82/tcp/4001/p2p/QmaCpDMGvV2BGHeYERUEnRQAwe3N8SzbUtfsmvsqQLuvuJ\n",
      "removed /ip4/104.131.131.82/udp/4001/quic/p2p/QmaCpDMGvV2BGHeYERUEnRQAwe3N8SzbUtfsmvsqQLuvuJ\n",
      "generating ED25519 keypair...done\n",
      "peer identity: 12D3KooWRV9ttRdvEhTBEgdvMv25J3ZzZbERjfGNy37sPnL2NrQ3\n",
      "initializing IPFS node at /home/hitesh/.ipfs_fl1\n",
      "to get started, enter:\n",
      "\n",
      "\tipfs cat /ipfs/QmQPeNsJPyVWPFDVHb77w8G42Fvo15z4bG2X8D2GhfbSXc/readme\n",
      "\n",
      "removed /dnsaddr/bootstrap.libp2p.io/p2p/QmNnooDu7bfjPFoTZYxMNLWUQJyrVwtbZg5gBMjTezGAJN\n",
      "removed /dnsaddr/bootstrap.libp2p.io/p2p/QmQCU2EcMqAqQPR2i9bChDtGNJchTbq5TbXJJ16u19uLTa\n",
      "removed /dnsaddr/bootstrap.libp2p.io/p2p/QmbLHAnMoJPWSCR5Zhtx6BHJX9KiKNN6tpvbUcqanj75Nb\n",
      "removed /dnsaddr/bootstrap.libp2p.io/p2p/QmcZf59bWwK5XFi76CZX8cbJ4BhTzzA3gU1ZjYZcYW3dwt\n",
      "removed /ip4/104.131.131.82/tcp/4001/p2p/QmaCpDMGvV2BGHeYERUEnRQAwe3N8SzbUtfsmvsqQLuvuJ\n",
      "removed /ip4/104.131.131.82/udp/4001/quic/p2p/QmaCpDMGvV2BGHeYERUEnRQAwe3N8SzbUtfsmvsqQLuvuJ\n",
      "generating ED25519 keypair...done\n",
      "peer identity: 12D3KooWRD5gsa2vzMDfKYjzdVShLdB2jVpiYVYGn2sqyQeaezni\n",
      "initializing IPFS node at /home/hitesh/.ipfs_fl2\n",
      "to get started, enter:\n",
      "\n",
      "\tipfs cat /ipfs/QmQPeNsJPyVWPFDVHb77w8G42Fvo15z4bG2X8D2GhfbSXc/readme\n",
      "\n",
      "removed /dnsaddr/bootstrap.libp2p.io/p2p/QmNnooDu7bfjPFoTZYxMNLWUQJyrVwtbZg5gBMjTezGAJN\n",
      "removed /dnsaddr/bootstrap.libp2p.io/p2p/QmQCU2EcMqAqQPR2i9bChDtGNJchTbq5TbXJJ16u19uLTa\n",
      "removed /dnsaddr/bootstrap.libp2p.io/p2p/QmbLHAnMoJPWSCR5Zhtx6BHJX9KiKNN6tpvbUcqanj75Nb\n",
      "removed /dnsaddr/bootstrap.libp2p.io/p2p/QmcZf59bWwK5XFi76CZX8cbJ4BhTzzA3gU1ZjYZcYW3dwt\n",
      "removed /ip4/104.131.131.82/tcp/4001/p2p/QmaCpDMGvV2BGHeYERUEnRQAwe3N8SzbUtfsmvsqQLuvuJ\n",
      "removed /ip4/104.131.131.82/udp/4001/quic/p2p/QmaCpDMGvV2BGHeYERUEnRQAwe3N8SzbUtfsmvsqQLuvuJ\n",
      "generating ED25519 keypair...done\n",
      "peer identity: 12D3KooWBhat12YKg5aencSerJWFBrFJen6Te6F9PbrQRG2iswxR\n",
      "initializing IPFS node at /home/hitesh/.ipfs_fl3\n",
      "to get started, enter:\n",
      "\n",
      "\tipfs cat /ipfs/QmQPeNsJPyVWPFDVHb77w8G42Fvo15z4bG2X8D2GhfbSXc/readme\n",
      "\n",
      "removed /dnsaddr/bootstrap.libp2p.io/p2p/QmNnooDu7bfjPFoTZYxMNLWUQJyrVwtbZg5gBMjTezGAJN\n",
      "removed /dnsaddr/bootstrap.libp2p.io/p2p/QmQCU2EcMqAqQPR2i9bChDtGNJchTbq5TbXJJ16u19uLTa\n",
      "removed /dnsaddr/bootstrap.libp2p.io/p2p/QmbLHAnMoJPWSCR5Zhtx6BHJX9KiKNN6tpvbUcqanj75Nb\n",
      "removed /dnsaddr/bootstrap.libp2p.io/p2p/QmcZf59bWwK5XFi76CZX8cbJ4BhTzzA3gU1ZjYZcYW3dwt\n",
      "removed /ip4/104.131.131.82/tcp/4001/p2p/QmaCpDMGvV2BGHeYERUEnRQAwe3N8SzbUtfsmvsqQLuvuJ\n",
      "removed /ip4/104.131.131.82/udp/4001/quic/p2p/QmaCpDMGvV2BGHeYERUEnRQAwe3N8SzbUtfsmvsqQLuvuJ\n",
      "generating ED25519 keypair...done\n",
      "peer identity: 12D3KooWG8ZFuMYt7VdxeQ7AZ95ZiBuvnuhWYxZaUtgsteTHaaHx\n",
      "initializing IPFS node at /home/hitesh/.ipfs_fl4\n",
      "to get started, enter:\n",
      "\n",
      "\tipfs cat /ipfs/QmQPeNsJPyVWPFDVHb77w8G42Fvo15z4bG2X8D2GhfbSXc/readme\n",
      "\n",
      "removed /dnsaddr/bootstrap.libp2p.io/p2p/QmNnooDu7bfjPFoTZYxMNLWUQJyrVwtbZg5gBMjTezGAJN\n",
      "removed /dnsaddr/bootstrap.libp2p.io/p2p/QmQCU2EcMqAqQPR2i9bChDtGNJchTbq5TbXJJ16u19uLTa\n",
      "removed /dnsaddr/bootstrap.libp2p.io/p2p/QmbLHAnMoJPWSCR5Zhtx6BHJX9KiKNN6tpvbUcqanj75Nb\n",
      "removed /dnsaddr/bootstrap.libp2p.io/p2p/QmcZf59bWwK5XFi76CZX8cbJ4BhTzzA3gU1ZjYZcYW3dwt\n",
      "removed /ip4/104.131.131.82/tcp/4001/p2p/QmaCpDMGvV2BGHeYERUEnRQAwe3N8SzbUtfsmvsqQLuvuJ\n",
      "removed /ip4/104.131.131.82/udp/4001/quic/p2p/QmaCpDMGvV2BGHeYERUEnRQAwe3N8SzbUtfsmvsqQLuvuJ\n",
      "generating ED25519 keypair...done\n",
      "peer identity: 12D3KooWFQFWTyCKTqQ6JBkQ1BsjxACxJm39ZsDKGDL7sQtp7vtx\n",
      "initializing IPFS node at /home/hitesh/.ipfs_fl5\n",
      "to get started, enter:\n",
      "\n",
      "\tipfs cat /ipfs/QmQPeNsJPyVWPFDVHb77w8G42Fvo15z4bG2X8D2GhfbSXc/readme\n",
      "\n",
      "removed /dnsaddr/bootstrap.libp2p.io/p2p/QmNnooDu7bfjPFoTZYxMNLWUQJyrVwtbZg5gBMjTezGAJN\n",
      "removed /dnsaddr/bootstrap.libp2p.io/p2p/QmQCU2EcMqAqQPR2i9bChDtGNJchTbq5TbXJJ16u19uLTa\n",
      "removed /dnsaddr/bootstrap.libp2p.io/p2p/QmbLHAnMoJPWSCR5Zhtx6BHJX9KiKNN6tpvbUcqanj75Nb\n",
      "removed /dnsaddr/bootstrap.libp2p.io/p2p/QmcZf59bWwK5XFi76CZX8cbJ4BhTzzA3gU1ZjYZcYW3dwt\n",
      "removed /ip4/104.131.131.82/tcp/4001/p2p/QmaCpDMGvV2BGHeYERUEnRQAwe3N8SzbUtfsmvsqQLuvuJ\n",
      "removed /ip4/104.131.131.82/udp/4001/quic/p2p/QmaCpDMGvV2BGHeYERUEnRQAwe3N8SzbUtfsmvsqQLuvuJ\n",
      "generating ED25519 keypair...done\n",
      "peer identity: 12D3KooWLEfGhcRK3kUifMaWWY7VepypnhbFwWhaPkTbvrbT6iGr\n",
      "initializing IPFS node at /home/hitesh/.ipfs_fl6\n",
      "to get started, enter:\n",
      "\n",
      "\tipfs cat /ipfs/QmQPeNsJPyVWPFDVHb77w8G42Fvo15z4bG2X8D2GhfbSXc/readme\n",
      "\n",
      "removed /dnsaddr/bootstrap.libp2p.io/p2p/QmNnooDu7bfjPFoTZYxMNLWUQJyrVwtbZg5gBMjTezGAJN\n",
      "removed /dnsaddr/bootstrap.libp2p.io/p2p/QmQCU2EcMqAqQPR2i9bChDtGNJchTbq5TbXJJ16u19uLTa\n",
      "removed /dnsaddr/bootstrap.libp2p.io/p2p/QmbLHAnMoJPWSCR5Zhtx6BHJX9KiKNN6tpvbUcqanj75Nb\n",
      "removed /dnsaddr/bootstrap.libp2p.io/p2p/QmcZf59bWwK5XFi76CZX8cbJ4BhTzzA3gU1ZjYZcYW3dwt\n",
      "removed /ip4/104.131.131.82/tcp/4001/p2p/QmaCpDMGvV2BGHeYERUEnRQAwe3N8SzbUtfsmvsqQLuvuJ\n",
      "removed /ip4/104.131.131.82/udp/4001/quic/p2p/QmaCpDMGvV2BGHeYERUEnRQAwe3N8SzbUtfsmvsqQLuvuJ\n",
      "generating ED25519 keypair...done\n",
      "peer identity: 12D3KooWQNMpB7Eav4mnNxNsCzz2gkgv9V4zqN8mVpmUPNv7Q1h5\n",
      "initializing IPFS node at /home/hitesh/.ipfs_fl7\n",
      "to get started, enter:\n",
      "\n",
      "\tipfs cat /ipfs/QmQPeNsJPyVWPFDVHb77w8G42Fvo15z4bG2X8D2GhfbSXc/readme\n",
      "\n",
      "removed /dnsaddr/bootstrap.libp2p.io/p2p/QmNnooDu7bfjPFoTZYxMNLWUQJyrVwtbZg5gBMjTezGAJN\n",
      "removed /dnsaddr/bootstrap.libp2p.io/p2p/QmQCU2EcMqAqQPR2i9bChDtGNJchTbq5TbXJJ16u19uLTa\n",
      "removed /dnsaddr/bootstrap.libp2p.io/p2p/QmbLHAnMoJPWSCR5Zhtx6BHJX9KiKNN6tpvbUcqanj75Nb\n",
      "removed /dnsaddr/bootstrap.libp2p.io/p2p/QmcZf59bWwK5XFi76CZX8cbJ4BhTzzA3gU1ZjYZcYW3dwt\n",
      "removed /ip4/104.131.131.82/tcp/4001/p2p/QmaCpDMGvV2BGHeYERUEnRQAwe3N8SzbUtfsmvsqQLuvuJ\n",
      "removed /ip4/104.131.131.82/udp/4001/quic/p2p/QmaCpDMGvV2BGHeYERUEnRQAwe3N8SzbUtfsmvsqQLuvuJ\n",
      "added /ip4/192.168.201.125/tcp/4002/ipfs/12D3KooWHiHSXnWk5kTQgx2Z4VLzTD55abSrEeK4LjwMNCtKojEQ\n",
      "added /ip4/192.168.201.125/tcp/4002/ipfs/12D3KooWHiHSXnWk5kTQgx2Z4VLzTD55abSrEeK4LjwMNCtKojEQ\n",
      "added /ip4/192.168.201.125/tcp/4002/ipfs/12D3KooWHiHSXnWk5kTQgx2Z4VLzTD55abSrEeK4LjwMNCtKojEQ\n",
      "added /ip4/192.168.201.125/tcp/4002/ipfs/12D3KooWHiHSXnWk5kTQgx2Z4VLzTD55abSrEeK4LjwMNCtKojEQ\n",
      "added /ip4/192.168.201.125/tcp/4002/ipfs/12D3KooWHiHSXnWk5kTQgx2Z4VLzTD55abSrEeK4LjwMNCtKojEQ\n",
      "added /ip4/192.168.201.125/tcp/4002/ipfs/12D3KooWHiHSXnWk5kTQgx2Z4VLzTD55abSrEeK4LjwMNCtKojEQ\n",
      "added /ip4/192.168.201.125/tcp/4002/ipfs/12D3KooWHiHSXnWk5kTQgx2Z4VLzTD55abSrEeK4LjwMNCtKojEQ\n",
      "added /ip4/192.168.201.125/tcp/4002/ipfs/12D3KooWHiHSXnWk5kTQgx2Z4VLzTD55abSrEeK4LjwMNCtKojEQ\n",
      "Initializing daemon...\n",
      "go-ipfs version: 0.11.0\n",
      "Repo version: 11\n",
      "System version: amd64/linux\n",
      "Golang version: go1.16.12\n",
      "Initializing daemon...\n",
      "go-ipfs version: 0.11.0\n",
      "Repo version: 11\n",
      "System version: amd64/linux\n",
      "Golang version: go1.16.12\n",
      "Initializing daemon...\n",
      "go-ipfs version: 0.11.0\n",
      "Repo version: 11\n",
      "System version: amd64/linux\n",
      "Golang version: go1.16.12\n",
      "Initializing daemon...\n",
      "go-ipfs version: 0.11.0\n",
      "Repo version: 11\n",
      "System version: amd64/linux\n",
      "Golang version: go1.16.12\n",
      "Initializing daemon...\n",
      "go-ipfs version: 0.11.0\n",
      "Repo version: 11\n",
      "System version: amd64/linux\n",
      "Golang version: go1.16.12\n",
      "Initializing daemon...\n",
      "go-ipfs version: 0.11.0\n",
      "Repo version: 11\n",
      "System version: amd64/linux\n",
      "Golang version: go1.16.12\n",
      "Initializing daemon...\n",
      "go-ipfs version: 0.11.0\n",
      "Repo version: 11\n",
      "System version: amd64/linux\n",
      "Golang version: go1.16.12\n",
      "Initializing daemon...\n",
      "go-ipfs version: 0.11.0\n",
      "Repo version: 11\n",
      "System version: amd64/linux\n",
      "Golang version: go1.16.12\n",
      "Swarm is limited to private network of peers with the swarm key\n",
      "Swarm key fingerprint: 3ead9a90d1dfde98026e4b0be59916b8\n",
      "Swarm listening on /ip4/127.0.0.1/tcp/4002\n",
      "Swarm listening on /ip4/192.168.201.125/tcp/4002\n",
      "Swarm listening on /ip6/::1/tcp/4002\n",
      "Swarm listening on /p2p-circuit\n",
      "Swarm announcing /ip4/127.0.0.1/tcp/4002\n",
      "Swarm announcing /ip4/192.168.201.125/tcp/4002\n",
      "Swarm announcing /ip6/::1/tcp/4002\n",
      "API server listening on /ip4/127.0.0.1/tcp/5002\n",
      "WebUI: http://127.0.0.1:5002/webui\n",
      "Gateway (readonly) server listening on /ip4/127.0.0.1/tcp/8081\n",
      "Daemon is ready\n"
     ]
    },
    {
     "name": "stdout",
     "output_type": "stream",
     "text": [
      "Swarm is limited to private network of peers with the swarm key\n",
      "Swarm key fingerprint: 3ead9a90d1dfde98026e4b0be59916b8\n",
      "Swarm listening on /ip4/127.0.0.1/tcp/4008\n",
      "Swarm listening on /ip4/192.168.201.125/tcp/4008\n",
      "Swarm listening on /ip6/::1/tcp/4008\n",
      "Swarm listening on /p2p-circuit\n",
      "Swarm announcing /ip4/127.0.0.1/tcp/4008\n",
      "Swarm announcing /ip4/192.168.201.125/tcp/4008\n",
      "Swarm announcing /ip6/::1/tcp/4008\n",
      "API server listening on /ip4/127.0.0.1/tcp/5008\n",
      "WebUI: http://127.0.0.1:5008/webui\n",
      "Gateway (readonly) server listening on /ip4/127.0.0.1/tcp/8087\n",
      "Daemon is ready\n",
      "Swarm is limited to private network of peers with the swarm key\n",
      "Swarm key fingerprint: 3ead9a90d1dfde98026e4b0be59916b8\n",
      "Swarm listening on /ip4/127.0.0.1/tcp/4005\n",
      "Swarm listening on /ip4/192.168.201.125/tcp/4005\n",
      "Swarm listening on /ip6/::1/tcp/4005\n",
      "Swarm listening on /p2p-circuit\n",
      "Swarm announcing /ip4/127.0.0.1/tcp/4005\n",
      "Swarm announcing /ip4/192.168.201.125/tcp/4005\n",
      "Swarm announcing /ip6/::1/tcp/4005\n",
      "API server listening on /ip4/127.0.0.1/tcp/5005\n",
      "WebUI: http://127.0.0.1:5005/webui\n",
      "Gateway (readonly) server listening on /ip4/127.0.0.1/tcp/8084\n",
      "Daemon is ready\n",
      "Swarm is limited to private network of peers with the swarm key\n",
      "Swarm key fingerprint: 3ead9a90d1dfde98026e4b0be59916b8\n",
      "Swarm listening on /ip4/127.0.0.1/tcp/4004\n",
      "Swarm listening on /ip4/192.168.201.125/tcp/4004\n",
      "Swarm listening on /ip6/::1/tcp/4004\n",
      "Swarm listening on /p2p-circuit\n",
      "Swarm announcing /ip4/127.0.0.1/tcp/4004\n",
      "Swarm announcing /ip4/192.168.201.125/tcp/4004\n",
      "Swarm announcing /ip6/::1/tcp/4004\n",
      "API server listening on /ip4/127.0.0.1/tcp/5004\n",
      "WebUI: http://127.0.0.1:5004/webui\n",
      "Gateway (readonly) server listening on /ip4/127.0.0.1/tcp/8083\n",
      "Daemon is ready\n",
      "Swarm is limited to private network of peers with the swarm key\n",
      "Swarm key fingerprint: 3ead9a90d1dfde98026e4b0be59916b8\n",
      "Swarm listening on /ip4/127.0.0.1/tcp/4006\n",
      "Swarm listening on /ip4/192.168.201.125/tcp/4006\n",
      "Swarm listening on /ip6/::1/tcp/4006\n",
      "Swarm listening on /p2p-circuit\n",
      "Swarm announcing /ip4/127.0.0.1/tcp/4006\n",
      "Swarm announcing /ip4/192.168.201.125/tcp/4006\n",
      "Swarm announcing /ip6/::1/tcp/4006\n",
      "API server listening on /ip4/127.0.0.1/tcp/5006\n",
      "WebUI: http://127.0.0.1:5006/webui\n",
      "Gateway (readonly) server listening on /ip4/127.0.0.1/tcp/8085\n",
      "Daemon is ready\n",
      "Swarm is limited to private network of peers with the swarm key\n",
      "Swarm key fingerprint: 3ead9a90d1dfde98026e4b0be59916b8\n",
      "Swarm listening on /ip4/127.0.0.1/tcp/4009\n",
      "Swarm listening on /ip4/192.168.201.125/tcp/4009\n",
      "Swarm listening on /ip6/::1/tcp/4009\n",
      "Swarm listening on /p2p-circuit\n",
      "Swarm announcing /ip4/127.0.0.1/tcp/4009\n",
      "Swarm announcing /ip4/192.168.201.125/tcp/4009\n",
      "Swarm announcing /ip6/::1/tcp/4009\n",
      "API server listening on /ip4/127.0.0.1/tcp/5009\n",
      "WebUI: http://127.0.0.1:5009/webui\n",
      "Gateway (readonly) server listening on /ip4/127.0.0.1/tcp/8088\n",
      "Daemon is ready\n",
      "Swarm is limited to private network of peers with the swarm key\n",
      "Swarm key fingerprint: 3ead9a90d1dfde98026e4b0be59916b8\n",
      "Swarm listening on /ip4/127.0.0.1/tcp/4007\n",
      "Swarm listening on /ip4/192.168.201.125/tcp/4007\n",
      "Swarm listening on /ip6/::1/tcp/4007\n",
      "Swarm listening on /p2p-circuit\n",
      "Swarm announcing /ip4/127.0.0.1/tcp/4007\n",
      "Swarm announcing /ip4/192.168.201.125/tcp/4007\n",
      "Swarm announcing /ip6/::1/tcp/4007\n",
      "API server listening on /ip4/127.0.0.1/tcp/5007\n",
      "WebUI: http://127.0.0.1:5007/webui\n",
      "Gateway (readonly) server listening on /ip4/127.0.0.1/tcp/8086\n",
      "Daemon is ready\n",
      "Swarm is limited to private network of peers with the swarm key\n",
      "Swarm key fingerprint: 3ead9a90d1dfde98026e4b0be59916b8\n",
      "Swarm listening on /ip4/127.0.0.1/tcp/4003\n",
      "Swarm listening on /ip4/192.168.201.125/tcp/4003\n",
      "Swarm listening on /ip6/::1/tcp/4003\n",
      "Swarm listening on /p2p-circuit\n",
      "Swarm announcing /ip4/127.0.0.1/tcp/4003\n",
      "Swarm announcing /ip4/192.168.201.125/tcp/4003\n",
      "Swarm announcing /ip6/::1/tcp/4003\n",
      "API server listening on /ip4/127.0.0.1/tcp/5003\n",
      "WebUI: http://127.0.0.1:5003/webui\n",
      "Gateway (readonly) server listening on /ip4/127.0.0.1/tcp/8082\n",
      "Daemon is ready\n"
     ]
    }
   ],
   "source": [
    "create_ipfs_nodes(CLIENTS)"
   ]
  },
  {
   "cell_type": "code",
   "execution_count": 6,
   "id": "2df7dc4a",
   "metadata": {},
   "outputs": [],
   "source": [
    "# class ClientNetwork:\n",
    "#     def __init__(self, count, structure, ipfs, blkchain, train_data, test_data):\n",
    "#         self.count = count\n",
    "#         self.structure = structure\n",
    "#         self.clients = ipfs\n",
    "#         self.blkchain = blkchain\n",
    "#         self.train_data = train_data\n",
    "#         self.test_data = test_data\n",
    "        \n",
    "#         self.clients = []\n",
    "        \n",
    "#     def start_clients(self):\n",
    "#         for i in range(self.count):\n",
    "#             ag = Client(i, self.structure[i], sekf.train_data[i], self.ipfs, self.blkchain, self.test)\n",
    "#             self.clients.append(ag)\n",
    "            "
   ]
  },
  {
   "cell_type": "code",
   "execution_count": 7,
   "id": "46515a6d",
   "metadata": {},
   "outputs": [],
   "source": [
    "def default(obj):\n",
    "    if type(obj).__module__ == np.__name__:\n",
    "        if isinstance(obj, np.ndarray):\n",
    "            return obj.tolist()\n",
    "        else:\n",
    "            return obj.item()\n",
    "    else:\n",
    "        return obj.total_seconds()\n",
    "#     raise TypeError('Unknown type:', type(obj))"
   ]
  },
  {
   "cell_type": "code",
   "execution_count": 8,
   "id": "ab40751e",
   "metadata": {},
   "outputs": [],
   "source": [
    "def getTime(messages):\n",
    "    simulated_communication_times = {i: messages[i]['time'] for i in range(len(messages))}\n",
    "    slowest_client = max(simulated_communication_times, key=simulated_communication_times.get)\n",
    "    simulated_time = simulated_communication_times[slowest_client]  # simulated time it would take for server to receive all values\n",
    "    return simulated_time"
   ]
  },
  {
   "cell_type": "code",
   "execution_count": 9,
   "id": "a37688e0",
   "metadata": {},
   "outputs": [],
   "source": [
    "class Message:\n",
    "    def __init__(self, sender, receiver, body):\n",
    "        self.sender = sender\n",
    "        self.receiver = receiver\n",
    "        self.body = body"
   ]
  },
  {
   "cell_type": "code",
   "execution_count": 10,
   "id": "21a660ca",
   "metadata": {},
   "outputs": [],
   "source": [
    "class Client:\n",
    "    def __init__(self, client_id, neighbour_ids, client_datasets, client_ipfs_node, client_blkchain_node, test_dataset):\n",
    "        \n",
    "        self.client_id = client_id\n",
    "        self.neighbour_ids = neighbour_ids\n",
    "        self.neighbour_ids.append(self.client_id) #neighbour includes itself\n",
    "        self.client_datasets = client_datasets\n",
    "        self.client_ipfs_node = client_ipfs_node\n",
    "        self.client_blkchain_node = client_blkchain_node\n",
    "        self.test_dataset = test_dataset\n",
    "        \n",
    "        self.personal_weights = {}\n",
    "#         self.personal_intercepts = {}\n",
    "        \n",
    "        self.federated_weights = {}\n",
    "#         self.federated_intercepts = {}\n",
    "        \n",
    "        self.personal_accuracy = {}\n",
    "        self.federated_accuracy = {}\n",
    "        \n",
    "        self.train_time = {}\n",
    "        \n",
    "        self.nb_weights = {}\n",
    "#         self.nb_intercepts = {}\n",
    "        \n",
    "        self.ipfsHash = {}\n",
    "        \n",
    "        self.nb_hash = {}\n",
    "        \n",
    "        self.blkchain_update = {}\n",
    "    \n",
    "    def addModelIpfs(self, round_it):\n",
    "        start_time = datetime.now()\n",
    "        model = {\n",
    "                 'weights': self.personal_weights[round_it][len(self.client_datasets) - 1],\n",
    "#                  'intercepts': self.personal_intercepts[round_it][len(self.client_datasets) - 1],\n",
    "                 'time': self.train_time[round_it]\n",
    "                }\n",
    "        with open('model'+str(self.client_id)+'.json', 'w') as f:\n",
    "            json.dump(model, f, default=default)\n",
    "\n",
    "        cmd = \"IPFS_PATH=~/\"+self.client_ipfs_node+\" ipfs add model\"+str(self.client_id)+\".json\"\n",
    "        \n",
    "        try:\n",
    "            modelHash = (os.popen(cmd).read()).strip()\n",
    "            modelHash = modelHash.split()[1]\n",
    "            self.ipfsHash[round_it] = modelHash\n",
    "            stop_time = datetime.now()\n",
    "            ipfs_time = (stop_time - start_time)\n",
    "            return modelHash\n",
    "        except:\n",
    "            stop_time = datetime.now()\n",
    "            ipfs_time = (stop_time - start_time)\n",
    "            return 0\n",
    "        \n",
    "    def recModelIpfs(self, round_it, ipfs_hash):\n",
    "#         try:\n",
    "            cmd = \"IPFS_PATH=~/\"+self.client_ipfs_node+\" ipfs cat \"+ipfs_hash\n",
    "            model = (os.popen(cmd).read()).strip()\n",
    "            start_time = datetime.now()\n",
    "            model = json.loads(os.popen(cmd).read())\n",
    "            stop_time = datetime.now()\n",
    "            ipfs_time = (stop_time - start_time)\n",
    "            return model\n",
    "#         except KeyError:\n",
    "#             print(self.client_ipfs_node, round_it)\n",
    "#             return None\n",
    "        \n",
    "    def modelChecker(self, round_it):\n",
    "        try:\n",
    "            a = self.ipfsHash[round_it]\n",
    "            return None\n",
    "        except KeyError:\n",
    "            return self.client_id\n",
    "    \n",
    "    def client_modelCheck_caller(self, deets):\n",
    "        client_instance, msg = deets\n",
    "        round_it = msg.body['round']\n",
    "        m = client_instance.modelChecker(round_it)\n",
    "        return m\n",
    "    \n",
    "#     def client_model_caller(self, deets):\n",
    "#         client_instance, msg = deets\n",
    "#         round_it = msg.body['round']\n",
    "#         m = client_instance.recModelIpfs(round_it)\n",
    "#         return m\n",
    "\n",
    "    def get_ipfs_hash(self, target_node_blk, round_it, target_node_id):\n",
    "        contract = server.eth.contract(address=CONTRACT_ADDRESS, abi=CONTRACT_ABI)\n",
    "        msg = contract.functions.getIpfsHashForUser(target_node_blk, str(round_it)).call()\n",
    "        if(msg==''):\n",
    "            print(\"Round \"+str(round_it)+\" missing on blockchain for Node \"+str(target_node_id))\n",
    "            return 0\n",
    "        else:\n",
    "            return (msg)\n",
    "            \n",
    "\n",
    "    def client_model_caller(self, deets):\n",
    "        client_instance, msg = deets\n",
    "        round_it = msg.body['round']\n",
    "        target_node_blk = client_instance.client_blkchain_node\n",
    "        target_node_id = client_instance.client_id\n",
    "        ipfs_hash = self.get_ipfs_hash(target_node_blk, round_it, target_node_id)\n",
    "        if(ipfs_hash!=0):\n",
    "            m = self.recModelIpfs(round_it, ipfs_hash)\n",
    "            return m\n",
    "        else:\n",
    "            print(\"Couldn't retreive ipfs hash from blockchain.\")\n",
    "    \n",
    "    def client_train_caller(self, deets):\n",
    "        client_instance, msg = deets\n",
    "#         print(\"Training Caller: \", client_instance.client_id)\n",
    "        if(client_instance.client_id == self.client_id):\n",
    "            self.train_client(msg)\n",
    "        else:  \n",
    "            client_instance.train_client(msg)\n",
    "#         print(\"Training Caller 2: \", client_instance.client_id)\n",
    "    \n",
    "    \n",
    "    def network_train_caller(self, numRounds):\n",
    "        for num in range(numRounds):\n",
    "            print(\"Training round: \", num)\n",
    "            self.get_nb_weights(num)\n",
    "            time.sleep(1)\n",
    "            print(\"Validation accuracy: \", self.personal_accuracy[num])\n",
    "            print()\n",
    "    \n",
    "    def get_nb_weights(self, round_it):\n",
    "        m = multiprocessing.Manager()\n",
    "        lock = m.Lock()\n",
    "        \n",
    "        with ThreadPool(len(self.neighbour_ids)) as calling_pool:\n",
    "            args = []\n",
    "            for cl in (self.neighbour_ids):\n",
    "                body = {'round': round_it, 'lock': lock}\n",
    "                msg = Message(self.client_id, cl, body)\n",
    "                args.append((allCl.clients[cl], msg))\n",
    "            msgs = calling_pool.map(self.client_modelCheck_caller, args)\n",
    "            msgs = np.array(msgs)\n",
    "        \n",
    "        untrained_nb = list(msgs[msgs!=None])\n",
    "#         print(\"Current Node: \", self.client_id)\n",
    "#         print(\"Untrained Neighbour: \", untrained_nb)\n",
    "#         print(\"All neighbours: \", self.neighbour_ids)\n",
    "        if(len(untrained_nb)!=0):\n",
    "            with ThreadPool(len(untrained_nb)) as calling_pool:\n",
    "                args = []\n",
    "                for cl in (untrained_nb):\n",
    "                    body = {'round': round_it, 'lock': lock}\n",
    "                    msg = Message(self.client_id, cl, body)\n",
    "                    args.append((allCl.clients[cl], msg))\n",
    "                calling_pool.map(self.client_train_caller, args)\n",
    "                \n",
    "        with ThreadPool(len(self.neighbour_ids)) as calling_pool:\n",
    "            args = []\n",
    "            for cl in (self.neighbour_ids):\n",
    "                body = {'round': round_it, 'lock': lock}\n",
    "                msg = Message(self.client_id, cl, body)\n",
    "                args.append((allCl.clients[cl], msg))\n",
    "            msgs = calling_pool.map(self.client_model_caller, args)        \n",
    "        \n",
    "        time_start = datetime.now()\n",
    "        train_time = getTime(msgs)\n",
    "        \n",
    "        self.nb_weights[round_it] = []\n",
    "#         self.nb_intercepts[round_it] = []\n",
    "        \n",
    "        for msg in msgs:\n",
    "            self.nb_weights[round_it].append(msg['weights'])\n",
    "#             self.nb_intercepts[round_it].append(msg['intercepts'])\n",
    "        \n",
    "        time_stop = datetime.now()\n",
    "        fedtime = time_stop - time_start\n",
    "        totTime = fedtime+timedelta(train_time)\n",
    "        self.FedAvg(round_it)\n",
    "#         return msgs \n",
    "    \n",
    "    def FedAvg(self, round_it):\n",
    "        \n",
    "        new_weights = list()\n",
    "        for weights_list_tuple in zip(*self.nb_weights[round_it]):\n",
    "            new_weights.append([np.array(weights_).mean(axis=0) for weights_ in zip(*weights_list_tuple)])\n",
    "\n",
    "        \n",
    "        self.federated_weights[round_it] = new_weights\n",
    "#         self.federated_intercepts[round_it] = np.average(self.nb_intercepts[round_it], axis=0)\n",
    "    \n",
    "    def data_preprocessing(self, X, y):\n",
    "        from keras.utils.np_utils import to_categorical\n",
    "        X = X/255.0\n",
    "        y = to_categorical(y, num_classes=10)\n",
    "        X = X.values.reshape(-1, 28, 28, 1)\n",
    "        return (X, y)\n",
    "    \n",
    "    def NN(self):\n",
    "        \n",
    "        import tensorflow as tf\n",
    "        from keras.models import Sequential\n",
    "        from keras.layers import Dense, Dropout, Flatten, Conv2D, MaxPool2D\n",
    "        from tensorflow.keras.optimizers import RMSprop\n",
    "        from keras.preprocessing.image import ImageDataGenerator\n",
    "        from keras.callbacks import ReduceLROnPlateau\n",
    "        \n",
    "        tf.config.run_functions_eagerly(True)\n",
    "        tf.data.experimental.enable_debug_mode()\n",
    "        \n",
    "        model = Sequential()\n",
    "\n",
    "        model.add(Conv2D(filters = 32, kernel_size = (5,5),padding = 'Same', \n",
    "                         activation ='relu', input_shape = (28,28,1)))\n",
    "        model.add(Conv2D(filters = 32, kernel_size = (5,5),padding = 'Same', \n",
    "                         activation ='relu'))\n",
    "        model.add(MaxPool2D(pool_size=(2,2)))\n",
    "        model.add(Dropout(0.25))\n",
    "\n",
    "\n",
    "        model.add(Conv2D(filters = 64, kernel_size = (3,3),padding = 'Same', \n",
    "                         activation ='relu'))\n",
    "        model.add(Conv2D(filters = 64, kernel_size = (3,3),padding = 'Same', \n",
    "                         activation ='relu'))\n",
    "        model.add(MaxPool2D(pool_size=(2,2), strides=(2,2)))\n",
    "        model.add(Dropout(0.25))\n",
    "\n",
    "\n",
    "        model.add(Flatten())\n",
    "        model.add(Dense(256, activation = \"relu\"))\n",
    "        model.add(Dropout(0.5))\n",
    "        model.add(Dense(10, activation = \"softmax\"))\n",
    "        \n",
    "        optimizer = RMSprop(learning_rate=0.001, rho=0.9, epsilon=1e-08, decay=0.0)\n",
    "        model.compile(optimizer = optimizer , loss = \"categorical_crossentropy\", metrics=[\"accuracy\"], run_eagerly=True)\n",
    "        \n",
    "        return model\n",
    "        \n",
    "    \n",
    "    def train_client(self, message):\n",
    "            training_flag = 0\n",
    "            training_over = 0\n",
    "#             print(\"Training node \", self.client_id)\n",
    "            round_it = message.body['round']\n",
    "            start_time = datetime.now()\n",
    "            for epoch in range(len(self.client_datasets)):\n",
    "                if(training_flag==0):\n",
    "                    X = self.client_datasets[epoch].drop('y', axis=1)\n",
    "                    y = self.client_datasets[epoch]['y']\n",
    "                    \n",
    "                    X, y = self.data_preprocessing(X, y)\n",
    "                    \n",
    "                    weights = self.compute_epoch(X, y, round_it, epoch, message.sender, self.client_id)\n",
    "\n",
    "                    if(epoch==0):\n",
    "                        try:\n",
    "                            self.personal_weights[round_it]\n",
    "                            training_flag = 1\n",
    "                        except:\n",
    "                            pass\n",
    "                            self.personal_weights[round_it] = []\n",
    "#                             self.personal_intercepts[round_it] = []\n",
    "\n",
    "                    if(training_flag==0):\n",
    "                        self.personal_weights[round_it].append(weights)\n",
    "#                         self.personal_intercepts[round_it].append(intercepts)\n",
    "\n",
    "            if(training_flag==0):\n",
    "                stop_time = datetime.now()\n",
    "                comp_time = stop_time - start_time\n",
    "                self.train_time[round_it] = comp_time\n",
    "                success = self.addModelIpfs(round_it)\n",
    "#                 print(\"Training finished for \", self.client_id)\n",
    "                if (success!=0):\n",
    "                    contract = server.eth.contract(address=CONTRACT_ADDRESS, abi=CONTRACT_ABI)\n",
    "                    tx_hash = contract.functions.addFile(str(round_it), success).transact({'from':self.client_blkchain_node})\n",
    "                    rec = server.eth.waitForTransactionReceipt(tx_hash)\n",
    "                    if(rec['status']!=1):\n",
    "                        print('TRANSACTION REVERTED BY BLOCKCHAIN')\n",
    "                    else:\n",
    "                        self.blkchain_update[round_it] = 1\n",
    "            else:\n",
    "                while(training_over==0):\n",
    "                    try:\n",
    "                        self.blkchain_update[round_it]\n",
    "                        training_over = 1\n",
    "#                         print(\"Training over\")\n",
    "                    except:\n",
    "                        time.sleep(1)\n",
    "                        \n",
    "#                 print(\"Client \", self.client_id, \" training already.\")\n",
    "            \n",
    "            \n",
    "                    \n",
    "    \n",
    "    def compute_epoch(self, X, y, round_it, epoch, sender, receiver):            \n",
    "        \n",
    "        model = self.NN()\n",
    "\n",
    "        if (epoch >= 1):\n",
    "            try:\n",
    "                weights = copy.deepcopy(self.personal_weights[round_it][epoch - 1])\n",
    "#                 intercepts = copy.deepcopy(self.personal_intercepts[round_it][epoch - 1])\n",
    "            except:\n",
    "                print(\"Node: \", self.client_id)\n",
    "                print(\"Epoch: \", epoch-1)\n",
    "                print(\"Round: \", round_it)\n",
    "                time.sleep(3)\n",
    "                weights = copy.deepcopy(self.personal_weights[round_it][epoch - 1])\n",
    "#                 intercepts = copy.deepcopy(self.personal_intercepts[round_it][epoch - 1])\n",
    "                \n",
    "        else:\n",
    "            if(round_it>=1):\n",
    "                try:\n",
    "                    weights = copy.deepcopy(self.federated_weights[round_it - 1])\n",
    "#                     intercepts = copy.deepcopy(self.federated_intercepts[round_it - 1])\n",
    "#                     print(\"Federated weights set for epoch \", epoch, \" in round  \", round_it)\n",
    "                except: \n",
    "                    rounds_trained = len(self.nb_weights)\n",
    "                    while(rounds_trained<round_it):\n",
    "                        self.get_nb_weights(rounds_trained)\n",
    "                        rounds_trained+=1\n",
    "                    \n",
    "                    try:\n",
    "                        weights = copy.deepcopy(self.federated_weights[round_it - 1])\n",
    "#                         intercepts = copy.deepcopy(self.federated_intercepts[round_it - 1])\n",
    "                    except:\n",
    "#                         print(\"Round: \", round_it)\n",
    "#                         print(\"Node: \", self.client_id)\n",
    "#                         print(\"Maxi var: \", maxi)\n",
    "                        weights = copy.deepcopy(self.federated_weights[round_it - 1])\n",
    "#                         intercepts = copy.deepcopy(self.federated_intercepts[round_it - 1])\n",
    "            else:\n",
    "                weights = None\n",
    "#                 intercepts = None\n",
    "                \n",
    "#         lr.fit(X, y, coef_init=weights, intercept_init=intercepts)\n",
    "        if(weights!=None):\n",
    "            for layeri in range(len(model.layers)):\n",
    "                (model.layers[layeri]).set_weights(weights[layeri])\n",
    "#         print(X.shape)\n",
    "#         print(y.shape)\n",
    "        model.fit(X, y, verbose=0, epochs=1, steps_per_epoch = 1)\n",
    "        local_weights = [layer.get_weights() for layer in model.layers]\n",
    "#         local_intercepts = lr.intercept_\n",
    "        \n",
    "        if(epoch==(len(self.client_datasets) - 1)):\n",
    "            \n",
    "            X = self.test_dataset.drop('y', axis=1)\n",
    "            y = self.test_dataset['y']\n",
    "            X, y = self.data_preprocessing(X, y)\n",
    "            \n",
    "            acc = model.evaluate(X, y, verbose=0, return_dict=True)\n",
    "            self.personal_accuracy[round_it] = acc['accuracy']\n",
    "            \n",
    "        return local_weights\n",
    "        \n",
    "#     def federated_averaging(self):\n",
    "        "
   ]
  },
  {
   "cell_type": "code",
   "execution_count": 11,
   "id": "a4dce9dc",
   "metadata": {},
   "outputs": [],
   "source": [
    "class AllClients:\n",
    "    def __init__(self, clients):\n",
    "        self.clients = clients\n",
    "        self.training = {int(client): False for client in range(CLIENTS)}\n",
    "        with open('training.json', 'w') as f:\n",
    "            json.dump(self.training, f)"
   ]
  },
  {
   "cell_type": "code",
   "execution_count": 12,
   "id": "b12d2661",
   "metadata": {},
   "outputs": [],
   "source": [
    "client_li = []\n",
    "for i in range(CLIENTS):\n",
    "    ag = Client(i, CLIENT_GRAPH[i], df_di[i], '.ipfs_fl'+str(i), BLKCHAIN_ACCOUNTS[i], test)\n",
    "    client_li.append(ag)\n",
    "\n",
    "allCl = AllClients(client_li)"
   ]
  },
  {
   "cell_type": "code",
   "execution_count": 15,
   "id": "2d15726d",
   "metadata": {},
   "outputs": [
    {
     "name": "stdout",
     "output_type": "stream",
     "text": [
      "Training round:  0\n"
     ]
    },
    {
     "name": "stderr",
     "output_type": "stream",
     "text": [
      "2022-02-26 22:32:44.821728: W tensorflow/stream_executor/platform/default/dso_loader.cc:64] Could not load dynamic library 'libcudart.so.11.0'; dlerror: libcudart.so.11.0: cannot open shared object file: No such file or directory\n",
      "2022-02-26 22:32:44.822386: I tensorflow/stream_executor/cuda/cudart_stub.cc:29] Ignore above cudart dlerror if you do not have a GPU set up on your machine.\n",
      "2022-02-26 22:32:48.316703: W tensorflow/stream_executor/platform/default/dso_loader.cc:64] Could not load dynamic library 'libcuda.so.1'; dlerror: libcuda.so.1: cannot open shared object file: No such file or directory\n",
      "2022-02-26 22:32:48.316786: W tensorflow/stream_executor/cuda/cuda_driver.cc:269] failed call to cuInit: UNKNOWN ERROR (303)\n",
      "2022-02-26 22:32:48.317278: I tensorflow/stream_executor/cuda/cuda_diagnostics.cc:156] kernel driver does not appear to be running on this host (LAPTOP-K234JIGI): /proc/driver/nvidia/version does not exist\n",
      "2022-02-26 22:32:48.320139: I tensorflow/core/platform/cpu_feature_guard.cc:151] This TensorFlow binary is optimized with oneAPI Deep Neural Network Library (oneDNN) to use the following CPU instructions in performance-critical operations:  AVX2 FMA\n",
      "To enable them in other operations, rebuild TensorFlow with the appropriate compiler flags.\n",
      " 11.75 MiB / 18.63 MiB   63.08% 00m45s[2K\u001b[2K\r"
     ]
    },
    {
     "name": "stdout",
     "output_type": "stream",
     "text": [
      "Validation accuracy:  0.924047589302063\n",
      "\n"
     ]
    }
   ],
   "source": [
    "allCl.clients[0].network_train_caller(1)"
   ]
  },
  {
   "cell_type": "code",
   "execution_count": 18,
   "id": "d8524e85",
   "metadata": {},
   "outputs": [
    {
     "name": "stderr",
     "output_type": "stream",
     "text": [
      " 0 B / 18.77 MiB    0.00%\u001b[2K4%\u001b[2K39ss2K\u001b[2K\u001b[2K\u001b[2K\u001b[2K\r"
     ]
    }
   ],
   "source": [
    "allCl.clients[0].get_nb_weights(1)"
   ]
  },
  {
   "cell_type": "code",
   "execution_count": 19,
   "id": "61860dc7",
   "metadata": {},
   "outputs": [
    {
     "name": "stdout",
     "output_type": "stream",
     "text": [
      "{0: 0.924047589302063, 1: 0.8807142972946167} {0: 0.9214285612106323, 1: 0.8761904835700989} {0: 0.9352381229400635, 1: 0.9357143044471741}\n"
     ]
    }
   ],
   "source": [
    "print(allCl.clients[0].personal_accuracy, allCl.clients[1].personal_accuracy, allCl.clients[4].personal_accuracy)"
   ]
  },
  {
   "cell_type": "code",
   "execution_count": null,
   "id": "5206c8cc",
   "metadata": {},
   "outputs": [
    {
     "name": "stderr",
     "output_type": "stream",
     "text": [
      " 18.63 MiB / 18.66 MiB   99.88%\u001b[2K01s[2K\u001b[2K\u001b[2K\r"
     ]
    }
   ],
   "source": [
    "allCl.clients[0].get_nb_weights(2)"
   ]
  },
  {
   "cell_type": "code",
   "execution_count": 19,
   "id": "170fe42c",
   "metadata": {},
   "outputs": [],
   "source": [
    "def printLengths(clients, round_it):\n",
    "    for i in range(len(clients.clients)):\n",
    "        try:\n",
    "            print(i,' ',len(clients.clients[i].personal_weights[round_it]))\n",
    "        except:\n",
    "            print(i,'  0')"
   ]
  },
  {
   "cell_type": "code",
   "execution_count": 15,
   "id": "ccf246ff",
   "metadata": {},
   "outputs": [
    {
     "name": "stdout",
     "output_type": "stream",
     "text": [
      "Current Node:  0\n",
      "Untrained Neighbour:  [1, 2, 0]\n",
      "All neighbours:  [1, 2, 0]\n",
      "Training node  1Training node  2\n",
      "\n",
      "Training node  0\n",
      "Federated weights set for epoch  0  in round   1\n",
      "Current Node:  2\n",
      "Untrained Neighbour:  [3]\n",
      "All neighbours:  [0, 3, 2]\n",
      "Training node  3\n",
      "Current Node:  1\n",
      "Untrained Neighbour:  [3]\n",
      "All neighbours:  [0, 3, 1]\n",
      "Training node  3\n",
      "7/7 - 2s - loss: 2.0376 - accuracy: 0.3545 - 2s/epoch - 327ms/step\n",
      "7/7 - 2s - loss: 2.3071 - accuracy: 0.0909 - 2s/epoch - 326ms/step\n",
      "7/7 - 2s - loss: 2.3012 - accuracy: 0.1091 - 2s/epoch - 323ms/step\n",
      "7/7 - 1s - loss: 1.4740 - accuracy: 0.5364 - 1s/epoch - 202ms/step\n",
      "7/7 - 1s - loss: 1.9105 - accuracy: 0.3182 - 1s/epoch - 201ms/step\n",
      "7/7 - 1s - loss: 1.3009 - accuracy: 0.6773 - 1s/epoch - 206ms/step\n",
      "7/7 - 1s - loss: 1.5050 - accuracy: 0.5955 - 1s/epoch - 209ms/step\n",
      "7/7 - 2s - loss: 0.8874 - accuracy: 0.7455 - 2s/epoch - 221ms/step\n",
      "7/7 - 2s - loss: 1.1440 - accuracy: 0.6773 - 2s/epoch - 224ms/step\n",
      "7/7 - 2s - loss: 0.6139 - accuracy: 0.7818 - 2s/epoch - 250ms/step\n",
      "  6/132 [>.............................] - ETA: 5s - loss: 0.3233 - accuracy: 0.89067/7 - 2s - loss: 0.9708 - accuracy: 0.6955 - 2s/epoch - 275ms/step\n",
      "132/132 [==============================] - 7s 53ms/step - loss: 0.3438 - accuracy: 0.8979\n",
      "130/132 [============================>.] - ETA: 0s - loss: 0.3755 - accuracy: 0.8947"
     ]
    },
    {
     "name": "stderr",
     "output_type": "stream",
     "text": [
      "\r",
      " 256.00 KiB / 18.94 MiB    1.32%\r",
      " 512.00 KiB / 18.94 MiB    2.64%\r",
      " 768.00 KiB / 18.94 MiB    3.96%\r",
      " 1.00 MiB / 18.94 MiB    5.28%\r",
      " 1.25 MiB / 18.94 MiB    6.60%\r",
      " 1.50 MiB / 18.94 MiB    7.92%\r",
      " 1.75 MiB / 18.94 MiB    9.24%\r",
      " 2.00 MiB / 18.94 MiB   10.56%\r",
      " 2.25 MiB / 18.94 MiB   11.88%\r",
      " 2.50 MiB / 18.94 MiB   13.20%\r",
      " 2.75 MiB / 18.94 MiB   14.52%\r",
      " 3.00 MiB / 18.94 MiB   15.84%\r",
      " 3.25 MiB / 18.94 MiB   17.16%\r",
      " 3.50 MiB / 18.94 MiB   18.48%\r",
      " 3.75 MiB / 18.94 MiB   19.80%\r",
      " 4.00 MiB / 18.94 MiB   21.12%\r",
      " 4.25 MiB / 18.94 MiB   22.44%\r",
      " 4.50 MiB / 18.94 MiB   23.76%\r",
      " 4.75 MiB / 18.94 MiB   25.08%\r",
      " 5.00 MiB / 18.94 MiB   26.40%\r",
      " 5.25 MiB / 18.94 MiB   27.72%\r",
      " 5.50 MiB / 18.94 MiB   29.04%\r",
      " 5.75 MiB / 18.94 MiB   30.36%\r",
      " 6.00 MiB / 18.94 MiB   31.68%\r",
      " 6.25 MiB / 18.94 MiB   33.00%\r",
      " 6.50 MiB / 18.94 MiB   34.32%\r",
      " 6.75 MiB / 18.94 MiB   35.64%\r",
      " 7.00 MiB / 18.94 MiB   36.97%\r",
      " 7.25 MiB / 18.94 MiB   38.29%\r",
      " 7.50 MiB / 18.94 MiB   39.61%\r",
      " 7.75 MiB / 18.94 MiB   40.93%\r",
      " 8.00 MiB / 18.94 MiB   42.25%\r",
      " 8.25 MiB / 18.94 MiB   43.57%\r",
      " 8.50 MiB / 18.94 MiB   44.89%\r",
      " 8.75 MiB / 18.94 MiB   46.21%\r",
      " 9.00 MiB / 18.94 MiB   47.53%\r",
      " 9.25 MiB / 18.94 MiB   48.85%\r",
      " 9.50 MiB / 18.94 MiB   50.17%\r",
      " 9.75 MiB / 18.94 MiB   51.49%\r",
      " 10.00 MiB / 18.94 MiB   52.81%\r",
      " 10.25 MiB / 18.94 MiB   54.13%\r",
      " 10.50 MiB / 18.94 MiB   55.45%\r",
      " 10.75 MiB / 18.94 MiB   56.77%\r",
      " 11.00 MiB / 18.94 MiB   58.09%\r",
      " 11.25 MiB / 18.94 MiB   59.41%\r",
      " 11.50 MiB / 18.94 MiB   60.73%\r",
      " 11.75 MiB / 18.94 MiB   62.05%\r",
      " 12.00 MiB / 18.94 MiB   63.37%\r",
      " 12.25 MiB / 18.94 MiB   64.69%\r",
      " 12.50 MiB / 18.94 MiB   66.01%\r",
      " 12.75 MiB / 18.94 MiB   67.33%\r",
      " 13.00 MiB / 18.94 MiB   68.65%\r",
      " 13.25 MiB / 18.94 MiB   69.97%\r",
      " 13.50 MiB / 18.94 MiB   71.29%\r",
      " 13.75 MiB / 18.94 MiB   72.61%\r",
      " 14.00 MiB / 18.94 MiB   73.93%\r",
      " 14.25 MiB / 18.94 MiB   75.25%\r",
      " 14.50 MiB / 18.94 MiB   76.57%\r",
      " 14.75 MiB / 18.94 MiB   77.89%\r",
      " 15.00 MiB / 18.94 MiB   79.21%\r",
      " 15.25 MiB / 18.94 MiB   80.53%\r",
      " 15.50 MiB / 18.94 MiB   81.85%\r",
      " 15.75 MiB / 18.94 MiB   83.17%\r",
      " 16.00 MiB / 18.94 MiB   84.49%\r",
      " 16.25 MiB / 18.94 MiB   85.81%\r",
      " 16.50 MiB / 18.94 MiB   87.13%\r",
      " 16.75 MiB / 18.94 MiB   88.45%\r",
      " 17.00 MiB / 18.94 MiB   89.77%\r",
      " 17.25 MiB / 18.94 MiB   91.09%\r",
      " 17.50 MiB / 18.94 MiB   92.41%\r",
      " 17.75 MiB / 18.94 MiB   93.73%\r",
      " 18.00 MiB / 18.94 MiB   95.05%\r",
      " 18.25 MiB / 18.94 MiB   96.37%\r",
      " 18.50 MiB / 18.94 MiB   97.69%\r",
      " 18.75 MiB / 18.94 MiB   99.01%\r",
      " 18.94 MiB / 18.94 MiB  100.00%"
     ]
    },
    {
     "name": "stdout",
     "output_type": "stream",
     "text": [
      "132/132 [==============================] - 9s 65ms/step - loss: 0.3767 - accuracy: 0.8938\n"
     ]
    },
    {
     "name": "stderr",
     "output_type": "stream",
     "text": [
      " 320.00 KiB / 18.76 MiB    1.67% 00m23s\u001b[2K\r"
     ]
    },
    {
     "name": "stdout",
     "output_type": "stream",
     "text": [
      "7/7 - 2s - loss: 1.9183 - accuracy: 0.3545 - 2s/epoch - 356ms/step\n",
      "7/7 - 2s - loss: 1.9168 - accuracy: 0.3636 - 2s/epoch - 218ms/step\n",
      "7/7 - 1s - loss: 1.3001 - accuracy: 0.5955 - 1s/epoch - 208ms/step\n",
      "7/7 - 1s - loss: 1.5101 - accuracy: 0.6318 - 1s/epoch - 194ms/step\n",
      "7/7 - 2s - loss: 1.1564 - accuracy: 0.7455 - 2s/epoch - 217ms/step\n",
      "7/7 - 1s - loss: 1.4321 - accuracy: 0.6727 - 1s/epoch - 210ms/step\n",
      "7/7 - 1s - loss: 0.7756 - accuracy: 0.7682 - 1s/epoch - 201ms/step\n",
      "7/7 - 1s - loss: 0.8774 - accuracy: 0.7545 - 1s/epoch - 198ms/step\n",
      "7/7 - 1s - loss: 0.5327 - accuracy: 0.8318 - 1s/epoch - 201ms/step\n",
      "7/7 - 1s - loss: 0.8391 - accuracy: 0.7591 - 1s/epoch - 196ms/step\n",
      "132/132 [==============================] - 7s 55ms/step - loss: 0.4113 - accuracy: 0.8845\n",
      "132/132 [==============================] - 8s 58ms/step - loss: 0.4422 - accuracy: 0.8681\n"
     ]
    },
    {
     "name": "stderr",
     "output_type": "stream",
     "text": [
      " 15.33 MiB / 18.93 MiB   81.01%\u001b[2K2ssK\r"
     ]
    },
    {
     "name": "stdout",
     "output_type": "stream",
     "text": [
      "0   0\n",
      "1   0\n",
      "2   0\n",
      "3   0\n"
     ]
    }
   ],
   "source": [
    "allCl.clients[0].get_nb_weights(1)\n",
    "printLengths(allCl, 0)"
   ]
  },
  {
   "cell_type": "code",
   "execution_count": 27,
   "id": "35757151",
   "metadata": {},
   "outputs": [
    {
     "name": "stdout",
     "output_type": "stream",
     "text": [
      "Current Node:  0\n",
      "Untrained Neighbour:  [1, 2, 0]\n",
      "All neighbours:  [1, 2, 0]\n",
      "Training node  1\n",
      "Training node  2\n",
      "Training node  0\n",
      "Federated weights set for epoch  0  in round   2\n",
      "Current Node:  1\n",
      "Untrained Neighbour:  [3]\n",
      "All neighbours:  [0, 3, 1]\n",
      "Training node  3\n",
      "Current Node:  2\n",
      "Untrained Neighbour:  [3]\n",
      "All neighbours:  [0, 3, 2]\n",
      "Training node  3\n",
      "Current Node:  3\n",
      "Untrained Neighbour:  []\n",
      "All neighbours:  [1, 2, 3]\n",
      "Current Node:  3\n",
      "Untrained Neighbour:  []\n",
      "All neighbours:  [1, 2, 3]\n"
     ]
    },
    {
     "name": "stderr",
     "output_type": "stream",
     "text": [
      " 18.71 MiB / 18.77 MiB   99.69%\u001b[2K1sss\r"
     ]
    },
    {
     "name": "stdout",
     "output_type": "stream",
     "text": [
      "7/7 - 6s - loss: 0.8777 - accuracy: 0.7864 - 6s/epoch - 926ms/step\n",
      "7/7 - 2s - loss: 2.0565 - accuracy: 0.2500 - 2s/epoch - 331ms/step\n",
      "7/7 - 2s - loss: 1.9000 - accuracy: 0.3091 - 2s/epoch - 353ms/step\n",
      "7/7 - 2s - loss: 0.7940 - accuracy: 0.7864 - 2s/epoch - 266ms/step\n",
      "7/7 - 2s - loss: 1.5178 - accuracy: 0.6227 - 2s/epoch - 215ms/step\n",
      "7/7 - 2s - loss: 0.6637 - accuracy: 0.7773 - 2s/epoch - 219ms/step\n",
      "7/7 - 2s - loss: 1.5282 - accuracy: 0.6545 - 2s/epoch - 220ms/step\n",
      "7/7 - 1s - loss: 0.4344 - accuracy: 0.8636 - 1s/epoch - 198ms/step\n",
      "7/7 - 1s - loss: 0.8900 - accuracy: 0.7727 - 1s/epoch - 208ms/step\n",
      "7/7 - 1s - loss: 0.5217 - accuracy: 0.8364 - 1s/epoch - 204ms/step\n",
      "  7/132 [>.............................] - ETA: 6s - loss: 0.2550 - accuracy: 0.91967/7 - 1s - loss: 0.6866 - accuracy: 0.8045 - 1s/epoch - 209ms/step\n",
      "132/132 [==============================] - 7s 50ms/step - loss: 0.2508 - accuracy: 0.9233\n",
      "127/132 [===========================>..] - ETA: 0s - loss: 0.3800 - accuracy: 0.8974"
     ]
    },
    {
     "name": "stderr",
     "output_type": "stream",
     "text": [
      "\r",
      " 256.00 KiB / 18.91 MiB    1.32%\r",
      " 512.00 KiB / 18.91 MiB    2.64%\r",
      " 768.00 KiB / 18.91 MiB    3.97%\r",
      " 1.00 MiB / 18.91 MiB    5.29%\r",
      " 1.25 MiB / 18.91 MiB    6.61%\r",
      " 1.50 MiB / 18.91 MiB    7.93%\r",
      " 1.75 MiB / 18.91 MiB    9.25%\r",
      " 2.00 MiB / 18.91 MiB   10.58%\r",
      " 2.25 MiB / 18.91 MiB   11.90%\r",
      " 2.50 MiB / 18.91 MiB   13.22%\r",
      " 2.75 MiB / 18.91 MiB   14.54%\r",
      " 3.00 MiB / 18.91 MiB   15.86%\r",
      " 3.25 MiB / 18.91 MiB   17.19%\r",
      " 3.50 MiB / 18.91 MiB   18.51%\r",
      " 3.75 MiB / 18.91 MiB   19.83%\r",
      " 4.00 MiB / 18.91 MiB   21.15%\r",
      " 4.25 MiB / 18.91 MiB   22.47%\r",
      " 4.50 MiB / 18.91 MiB   23.80%\r",
      " 4.75 MiB / 18.91 MiB   25.12%\r",
      " 5.00 MiB / 18.91 MiB   26.44%\r",
      " 5.25 MiB / 18.91 MiB   27.76%\r",
      " 5.50 MiB / 18.91 MiB   29.08%\r",
      " 5.75 MiB / 18.91 MiB   30.41%\r",
      " 6.00 MiB / 18.91 MiB   31.73%\r",
      " 6.25 MiB / 18.91 MiB   33.05%\r",
      " 6.50 MiB / 18.91 MiB   34.37%\r",
      " 6.75 MiB / 18.91 MiB   35.69%\r",
      " 7.00 MiB / 18.91 MiB   37.02%\r",
      " 7.25 MiB / 18.91 MiB   38.34%\r",
      " 7.50 MiB / 18.91 MiB   39.66%\r",
      " 7.75 MiB / 18.91 MiB   40.98%\r",
      " 8.00 MiB / 18.91 MiB   42.30%\r",
      " 8.25 MiB / 18.91 MiB   43.63%\r",
      " 8.50 MiB / 18.91 MiB   44.95%\r",
      " 8.75 MiB / 18.91 MiB   46.27%\r",
      " 9.00 MiB / 18.91 MiB   47.59%\r",
      " 9.25 MiB / 18.91 MiB   48.92%\r",
      " 9.50 MiB / 18.91 MiB   50.24%\r",
      " 9.75 MiB / 18.91 MiB   51.56%\r",
      " 10.00 MiB / 18.91 MiB   52.88%\r",
      " 10.25 MiB / 18.91 MiB   54.20%\r",
      " 10.50 MiB / 18.91 MiB   55.53%\r",
      " 10.75 MiB / 18.91 MiB   56.85%\r",
      " 11.00 MiB / 18.91 MiB   58.17%\r",
      " 11.25 MiB / 18.91 MiB   59.49%\r",
      " 11.50 MiB / 18.91 MiB   60.81%\r",
      " 11.75 MiB / 18.91 MiB   62.14%\r",
      " 12.00 MiB / 18.91 MiB   63.46%\r",
      " 12.25 MiB / 18.91 MiB   64.78%\r",
      " 12.50 MiB / 18.91 MiB   66.10%\r",
      " 12.75 MiB / 18.91 MiB   67.42%\r",
      " 13.00 MiB / 18.91 MiB   68.75%\r",
      " 13.25 MiB / 18.91 MiB   70.07%\r",
      " 13.50 MiB / 18.91 MiB   71.39%\r",
      " 13.75 MiB / 18.91 MiB   72.71%\r",
      " 14.00 MiB / 18.91 MiB   74.03%\r",
      " 14.25 MiB / 18.91 MiB   75.36%\r",
      " 14.50 MiB / 18.91 MiB   76.68%\r",
      " 14.75 MiB / 18.91 MiB   78.00%\r",
      " 15.00 MiB / 18.91 MiB   79.32%\r",
      " 15.25 MiB / 18.91 MiB   80.64%\r",
      " 15.50 MiB / 18.91 MiB   81.97%\r",
      " 15.75 MiB / 18.91 MiB   83.29%\r",
      " 16.00 MiB / 18.91 MiB   84.61%\r",
      " 16.25 MiB / 18.91 MiB   85.93%\r",
      " 16.50 MiB / 18.91 MiB   87.25%\r",
      " 16.75 MiB / 18.91 MiB   88.58%\r",
      " 17.00 MiB / 18.91 MiB   89.90%\r",
      " 17.25 MiB / 18.91 MiB   91.22%\r",
      " 17.50 MiB / 18.91 MiB   92.54%\r",
      " 17.75 MiB / 18.91 MiB   93.86%\r",
      " 18.00 MiB / 18.91 MiB   95.19%\r",
      " 18.25 MiB / 18.91 MiB   96.51%\r",
      " 18.50 MiB / 18.91 MiB   97.83%\r",
      " 18.75 MiB / 18.91 MiB   99.15%\r",
      " 18.91 MiB / 18.91 MiB  100.00%"
     ]
    },
    {
     "name": "stdout",
     "output_type": "stream",
     "text": [
      "132/132 [==============================] - 8s 63ms/step - loss: 0.3810 - accuracy: 0.8971\n"
     ]
    },
    {
     "name": "stderr",
     "output_type": "stream",
     "text": [
      " 5.02 MiB / 18.94 MiB   26.53% 00m01s\u001b[2KK\u001b[2K\u001b[2K\r"
     ]
    },
    {
     "name": "stdout",
     "output_type": "stream",
     "text": [
      "7/7 - 3s - loss: 0.7442 - accuracy: 0.8045 - 3s/epoch - 436ms/step\n",
      "7/7 - 2s - loss: 1.0012 - accuracy: 0.7682 - 2s/epoch - 221ms/step\n",
      "7/7 - 1s - loss: 0.6652 - accuracy: 0.7636 - 1s/epoch - 205ms/step\n",
      "7/7 - 1s - loss: 0.8052 - accuracy: 0.7545 - 1s/epoch - 209ms/step\n",
      "7/7 - 2s - loss: 0.7071 - accuracy: 0.8045 - 2s/epoch - 226ms/step\n",
      "7/7 - 2s - loss: 0.6094 - accuracy: 0.8227 - 2s/epoch - 216ms/step\n",
      "7/7 - 2s - loss: 0.4883 - accuracy: 0.8636 - 2s/epoch - 225ms/step\n",
      "7/7 - 2s - loss: 0.8036 - accuracy: 0.7909 - 2s/epoch - 226ms/step\n",
      "7/7 - 2s - loss: 0.6743 - accuracy: 0.8136 - 2s/epoch - 215ms/step\n",
      "7/7 - 1s - loss: 0.7480 - accuracy: 0.7955 - 1s/epoch - 194ms/step\n",
      "132/132 [==============================] - 7s 51ms/step - loss: 0.2549 - accuracy: 0.9295\n",
      "132/132 [==============================] - 9s 67ms/step - loss: 0.2678 - accuracy: 0.9257\n"
     ]
    },
    {
     "name": "stderr",
     "output_type": "stream",
     "text": [
      " 7.91 MiB / 18.92 MiB   41.80%\u001b[2KK5s\r"
     ]
    }
   ],
   "source": [
    "allCl.clients[0].get_nb_weights(2)"
   ]
  },
  {
   "cell_type": "code",
   "execution_count": 30,
   "id": "173037ce",
   "metadata": {},
   "outputs": [
    {
     "data": {
      "text/plain": [
       "{0: 0.8502380847930908, 1: 0.897857129573822, 2: 0.9233333468437195}"
      ]
     },
     "execution_count": 30,
     "metadata": {},
     "output_type": "execute_result"
    }
   ],
   "source": [
    "allCl.clients[0].personal_accuracy"
   ]
  },
  {
   "cell_type": "code",
   "execution_count": 28,
   "id": "a021d8ce",
   "metadata": {},
   "outputs": [
    {
     "name": "stdout",
     "output_type": "stream",
     "text": [
      "0   5\n",
      "1   5\n",
      "2   5\n",
      "3   5\n",
      "\n",
      "0   5\n",
      "1   5\n",
      "2   5\n",
      "3   5\n",
      "\n",
      "0   5\n",
      "1   5\n",
      "2   5\n",
      "3   0\n",
      "\n",
      "0   0\n",
      "1   0\n",
      "2   0\n",
      "3   0\n"
     ]
    }
   ],
   "source": [
    "printLengths(allCl, 0)\n",
    "print()\n",
    "printLengths(allCl, 1)\n",
    "print()\n",
    "printLengths(allCl, 2)\n",
    "print()\n",
    "printLengths(allCl, 3)"
   ]
  },
  {
   "cell_type": "code",
   "execution_count": 31,
   "id": "31b6a8d5",
   "metadata": {},
   "outputs": [
    {
     "name": "stdout",
     "output_type": "stream",
     "text": [
      "Current Node:  0\n",
      "Untrained Neighbour:  [1, 2, 0]\n",
      "All neighbours:  [1, 2, 0]\n",
      "Training node  1\n",
      "Training node  2\n",
      "Training node  0\n",
      "Current Node:  1\n",
      "Untrained Neighbour:  [3]\n",
      "All neighbours:  [0, 3, 1]\n",
      "Training node  3\n",
      "Current Node:  2\n",
      "Untrained Neighbour:  [3]\n",
      "All neighbours:  [0, 3, 2]\n",
      "Training node  3\n",
      "Federated weights set for epoch  0  in round   3\n",
      "Current Node:  3\n",
      "Untrained Neighbour:  []\n",
      "All neighbours:  [1, 2, 3]\n"
     ]
    },
    {
     "name": "stderr",
     "output_type": "stream",
     "text": [
      "\r",
      " 0 B / 18.93 MiB    0.00%\r",
      " 0 B / 18.93 MiB    0.00%\r",
      " 0 B / 18.94 MiB    0.00%"
     ]
    },
    {
     "name": "stdout",
     "output_type": "stream",
     "text": [
      "Current Node:  3\n",
      "Untrained Neighbour:  []\n",
      "All neighbours:  [1, 2, 3]\n"
     ]
    },
    {
     "name": "stderr",
     "output_type": "stream",
     "text": [
      " 14.46 MiB / 18.93 MiB   76.39%\u001b[2K1s\u001b[2K\r"
     ]
    },
    {
     "name": "stdout",
     "output_type": "stream",
     "text": [
      "7/7 - 7s - loss: 0.4528 - accuracy: 0.8682 - 7s/epoch - 966ms/step\n",
      "7/7 - 2s - loss: 0.8828 - accuracy: 0.7682 - 2s/epoch - 337ms/step\n",
      "7/7 - 2s - loss: 1.0050 - accuracy: 0.7409 - 2s/epoch - 352ms/step\n",
      "7/7 - 2s - loss: 0.4290 - accuracy: 0.8818 - 2s/epoch - 283ms/step\n",
      "7/7 - 2s - loss: 0.7448 - accuracy: 0.7818 - 2s/epoch - 226ms/step\n",
      "7/7 - 2s - loss: 0.6182 - accuracy: 0.8591 - 2s/epoch - 226ms/step\n",
      "7/7 - 2s - loss: 0.6072 - accuracy: 0.7864 - 2s/epoch - 219ms/step\n",
      "7/7 - 2s - loss: 0.4198 - accuracy: 0.8773 - 2s/epoch - 221ms/step\n",
      "7/7 - 2s - loss: 0.6603 - accuracy: 0.8182 - 2s/epoch - 220ms/step\n",
      "7/7 - 2s - loss: 0.3684 - accuracy: 0.8727 - 2s/epoch - 235ms/step\n",
      "  5/132 [>.............................] - ETA: 6s - loss: 0.1944 - accuracy: 0.95007/7 - 2s - loss: 0.5979 - accuracy: 0.8409 - 2s/epoch - 231ms/step\n",
      "132/132 [==============================] - 7s 55ms/step - loss: 0.2179 - accuracy: 0.9367\n",
      "132/132 [==============================] - 9s 67ms/step - loss: 0.2467 - accuracy: 0.9257\n"
     ]
    },
    {
     "name": "stderr",
     "output_type": "stream",
     "text": [
      " 16.21 MiB / 18.92 MiB   85.68%\u001b[2K1s\u001b[2K\r"
     ]
    },
    {
     "name": "stdout",
     "output_type": "stream",
     "text": [
      "7/7 - 2s - loss: 0.4354 - accuracy: 0.8500 - 2s/epoch - 243ms/step\n",
      "7/7 - 2s - loss: 0.4928 - accuracy: 0.8682 - 2s/epoch - 267ms/step\n",
      "7/7 - 2s - loss: 0.4787 - accuracy: 0.8409 - 2s/epoch - 216ms/step\n",
      "7/7 - 2s - loss: 0.5255 - accuracy: 0.8773 - 2s/epoch - 218ms/step\n",
      "7/7 - 1s - loss: 0.4260 - accuracy: 0.8773 - 1s/epoch - 211ms/step\n",
      "7/7 - 1s - loss: 0.4389 - accuracy: 0.8864 - 1s/epoch - 210ms/step\n",
      "7/7 - 1s - loss: 0.5033 - accuracy: 0.8500 - 1s/epoch - 209ms/step\n",
      "7/7 - 1s - loss: 0.2254 - accuracy: 0.9182 - 1s/epoch - 208ms/step\n",
      "7/7 - 1s - loss: 0.4541 - accuracy: 0.8636 - 1s/epoch - 210ms/step\n",
      "  3/132 [..............................] - ETA: 5s - loss: 0.3170 - accuracy: 0.92717/7 - 1s - loss: 0.2768 - accuracy: 0.9182 - 1s/epoch - 207ms/step\n",
      "132/132 [==============================] - 7s 54ms/step - loss: 0.3694 - accuracy: 0.9060\n",
      "132/132 [==============================] - 9s 68ms/step - loss: 0.2469 - accuracy: 0.9319\n"
     ]
    },
    {
     "name": "stderr",
     "output_type": "stream",
     "text": [
      "\u001b[2K8 MiB / 18.87 MiB   40.17%\u001b[2Km40s\r"
     ]
    }
   ],
   "source": [
    "allCl.clients[0].get_nb_weights(3)"
   ]
  },
  {
   "cell_type": "code",
   "execution_count": 32,
   "id": "bd85ac03",
   "metadata": {},
   "outputs": [
    {
     "name": "stdout",
     "output_type": "stream",
     "text": [
      "0   5\n",
      "1   5\n",
      "2   5\n",
      "3   5\n",
      "\n",
      "0   5\n",
      "1   5\n",
      "2   5\n",
      "3   5\n",
      "\n",
      "0   5\n",
      "1   5\n",
      "2   5\n",
      "3   5\n",
      "\n",
      "0   5\n",
      "1   5\n",
      "2   5\n",
      "3   0\n"
     ]
    }
   ],
   "source": [
    "printLengths(allCl, 0)\n",
    "print()\n",
    "printLengths(allCl, 1)\n",
    "print()\n",
    "printLengths(allCl, 2)\n",
    "print()\n",
    "printLengths(allCl, 3)"
   ]
  },
  {
   "cell_type": "code",
   "execution_count": 35,
   "id": "cfa8417f",
   "metadata": {},
   "outputs": [
    {
     "data": {
      "text/plain": [
       "({0: 0.8502380847930908,\n",
       "  1: 0.897857129573822,\n",
       "  2: 0.9233333468437195,\n",
       "  3: 0.9366666674613953},\n",
       " {0: 0.7840476036071777,\n",
       "  1: 0.8845238089561462,\n",
       "  2: 0.9295238256454468,\n",
       "  3: 0.9059523940086365},\n",
       " {0: 0.8678571581840515,\n",
       "  1: 0.8680952191352844,\n",
       "  2: 0.9257143139839172,\n",
       "  3: 0.9319047331809998},\n",
       " {0: 0.8938094973564148, 1: 0.8971428275108337, 2: 0.9257143139839172})"
      ]
     },
     "execution_count": 35,
     "metadata": {},
     "output_type": "execute_result"
    }
   ],
   "source": [
    "allCl.clients[0].personal_accuracy, allCl.clients[1].personal_accuracy, allCl.clients[2].personal_accuracy, allCl.clients[3].personal_accuracy"
   ]
  },
  {
   "cell_type": "code",
   "execution_count": 36,
   "id": "44cafa25",
   "metadata": {},
   "outputs": [
    {
     "name": "stdout",
     "output_type": "stream",
     "text": [
      "Current Node:  0\n",
      "Untrained Neighbour:  [1, 2, 0]\n",
      "All neighbours:  [1, 2, 0]\n",
      "Training node  1\n",
      "Training node  Training node  0\n",
      "2\n",
      "Current Node:  1\n",
      "Untrained Neighbour:  [3]\n",
      "All neighbours:  [0, 3, 1]\n",
      "Training node  3\n",
      "Federated weights set for epoch  0  in round   4\n",
      "Current Node:  2\n",
      "Untrained Neighbour:  [3]\n",
      "All neighbours:  [0, 3, 2]\n",
      "Training node  3\n",
      "Current Node:  3\n",
      "Untrained Neighbour:  []\n",
      "All neighbours:  [1, 2, 3]\n",
      "Current Node:  3\n",
      "Untrained Neighbour:  []\n",
      "All neighbours:  [1, 2, 3]\n"
     ]
    },
    {
     "name": "stderr",
     "output_type": "stream",
     "text": [
      " 11.64 MiB / 18.92 MiB   61.55%\u001b[2K3ss[2K\u001b[2K\u001b[2K\r"
     ]
    },
    {
     "name": "stdout",
     "output_type": "stream",
     "text": [
      "7/7 - 7s - loss: 0.3082 - accuracy: 0.9182 - 7s/epoch - 1s/step\n",
      "7/7 - 2s - loss: 0.5756 - accuracy: 0.8591 - 2s/epoch - 313ms/step\n",
      "7/7 - 2s - loss: 0.4967 - accuracy: 0.8636 - 2s/epoch - 320ms/step\n",
      "7/7 - 2s - loss: 0.2516 - accuracy: 0.9136 - 2s/epoch - 239ms/step\n",
      "7/7 - 1s - loss: 0.4746 - accuracy: 0.8500 - 1s/epoch - 210ms/step\n",
      "7/7 - 1s - loss: 0.3600 - accuracy: 0.8955 - 1s/epoch - 201ms/step\n",
      "7/7 - 1s - loss: 0.4142 - accuracy: 0.8545 - 1s/epoch - 209ms/step\n",
      "7/7 - 1s - loss: 0.3205 - accuracy: 0.9045 - 1s/epoch - 208ms/step\n",
      "7/7 - 1s - loss: 0.5407 - accuracy: 0.8545 - 1s/epoch - 207ms/step\n",
      "7/7 - 1s - loss: 0.3113 - accuracy: 0.9227 - 1s/epoch - 211ms/step\n",
      "  7/132 [>.............................] - ETA: 6s - loss: 0.1585 - accuracy: 0.94207/7 - 1s - loss: 0.3693 - accuracy: 0.8682 - 1s/epoch - 210ms/step\n",
      "132/132 [==============================] - 7s 55ms/step - loss: 0.1723 - accuracy: 0.9505\n",
      "131/132 [============================>.] - ETA: 0s - loss: 0.2191 - accuracy: 0.9363"
     ]
    },
    {
     "name": "stderr",
     "output_type": "stream",
     "text": [
      "\r",
      " 256.00 KiB / ? \r",
      " 512.00 KiB / 18.84 MiB    2.65%\r",
      " 768.00 KiB / 18.84 MiB    3.98%\r",
      " 1.00 MiB / 18.84 MiB    5.31%\r",
      " 1.25 MiB / 18.84 MiB    6.64%\r",
      " 1.50 MiB / 18.84 MiB    7.96%\r",
      " 1.75 MiB / 18.84 MiB    9.29%\r",
      " 2.00 MiB / 18.84 MiB   10.62%\r",
      " 2.25 MiB / 18.84 MiB   11.94%\r",
      " 2.50 MiB / 18.84 MiB   13.27%\r",
      " 2.75 MiB / 18.84 MiB   14.60%\r",
      " 3.00 MiB / 18.84 MiB   15.93%\r",
      " 3.25 MiB / 18.84 MiB   17.25%\r",
      " 3.50 MiB / 18.84 MiB   18.58%\r",
      " 3.75 MiB / 18.84 MiB   19.91%\r",
      " 4.00 MiB / 18.84 MiB   21.23%\r",
      " 4.25 MiB / 18.84 MiB   22.56%\r",
      " 4.50 MiB / 18.84 MiB   23.89%\r",
      " 4.75 MiB / 18.84 MiB   25.22%\r",
      " 5.00 MiB / 18.84 MiB   26.54%\r",
      " 5.25 MiB / 18.84 MiB   27.87%\r",
      " 5.50 MiB / 18.84 MiB   29.20%\r",
      " 5.75 MiB / 18.84 MiB   30.52%\r",
      " 6.00 MiB / 18.84 MiB   31.85%\r",
      " 6.25 MiB / 18.84 MiB   33.18%\r",
      " 6.50 MiB / 18.84 MiB   34.51%\r",
      " 6.75 MiB / 18.84 MiB   35.83%\r",
      " 7.00 MiB / 18.84 MiB   37.16%\r",
      " 7.25 MiB / 18.84 MiB   38.49%\r",
      " 7.50 MiB / 18.84 MiB   39.81%\r",
      " 7.75 MiB / 18.84 MiB   41.14%\r",
      " 8.00 MiB / 18.84 MiB   42.47%\r",
      " 8.25 MiB / 18.84 MiB   43.80%\r",
      " 8.50 MiB / 18.84 MiB   45.12%\r",
      " 8.75 MiB / 18.84 MiB   46.45%\r",
      " 9.00 MiB / 18.84 MiB   47.78%\r",
      " 9.25 MiB / 18.84 MiB   49.10%\r",
      " 9.50 MiB / 18.84 MiB   50.43%\r",
      " 9.75 MiB / 18.84 MiB   51.76%\r",
      " 10.00 MiB / 18.84 MiB   53.09%\r",
      " 10.25 MiB / 18.84 MiB   54.41%\r",
      " 10.50 MiB / 18.84 MiB   55.74%\r",
      " 10.75 MiB / 18.84 MiB   57.07%\r",
      " 11.00 MiB / 18.84 MiB   58.39%\r",
      " 11.25 MiB / 18.84 MiB   59.72%\r",
      " 11.50 MiB / 18.84 MiB   61.05%\r",
      " 11.75 MiB / 18.84 MiB   62.38%\r",
      " 12.00 MiB / 18.84 MiB   63.70%\r",
      " 12.25 MiB / 18.84 MiB   65.03%\r",
      " 12.50 MiB / 18.84 MiB   66.36%\r",
      " 12.75 MiB / 18.84 MiB   67.68%\r",
      " 13.00 MiB / 18.84 MiB   69.01%\r",
      " 13.25 MiB / 18.84 MiB   70.34%\r",
      " 13.50 MiB / 18.84 MiB   71.67%\r",
      " 13.75 MiB / 18.84 MiB   72.99%\r",
      " 14.00 MiB / 18.84 MiB   74.32%\r",
      " 14.25 MiB / 18.84 MiB   75.65%\r",
      " 14.50 MiB / 18.84 MiB   76.97%\r",
      " 14.75 MiB / 18.84 MiB   78.30%\r",
      " 15.00 MiB / 18.84 MiB   79.63%\r",
      " 15.25 MiB / 18.84 MiB   80.96%\r",
      " 15.50 MiB / 18.84 MiB   82.28%\r",
      " 15.75 MiB / 18.84 MiB   83.61%\r",
      " 16.00 MiB / 18.84 MiB   84.94%\r",
      " 16.25 MiB / 18.84 MiB   86.26%\r",
      " 16.50 MiB / 18.84 MiB   87.59%\r",
      " 16.75 MiB / 18.84 MiB   88.92%\r",
      " 17.00 MiB / 18.84 MiB   90.25%\r",
      " 17.25 MiB / 18.84 MiB   91.57%\r",
      " 17.50 MiB / 18.84 MiB   92.90%\r",
      " 17.75 MiB / 18.84 MiB   94.23%\r",
      " 18.00 MiB / 18.84 MiB   95.55%\r",
      " 18.25 MiB / 18.84 MiB   96.88%\r",
      " 18.50 MiB / 18.84 MiB   98.21%\r",
      " 18.75 MiB / 18.84 MiB   99.54%\r",
      " 18.84 MiB / 18.84 MiB  100.00%"
     ]
    },
    {
     "name": "stdout",
     "output_type": "stream",
     "text": [
      "132/132 [==============================] - 9s 68ms/step - loss: 0.2188 - accuracy: 0.9364\n"
     ]
    },
    {
     "name": "stderr",
     "output_type": "stream",
     "text": [
      " 576.00 KiB / 18.87 MiB    2.98% 00m13s2KK\u001b[2K\r"
     ]
    },
    {
     "name": "stdout",
     "output_type": "stream",
     "text": [
      "7/7 - 1s - loss: 0.3686 - accuracy: 0.9091 - 1s/epoch - 210ms/step\n",
      "7/7 - 2s - loss: 0.3782 - accuracy: 0.9182 - 2s/epoch - 219ms/step\n",
      "7/7 - 1s - loss: 0.3726 - accuracy: 0.8682 - 1s/epoch - 199ms/step\n",
      "7/7 - 1s - loss: 0.3238 - accuracy: 0.8955 - 1s/epoch - 206ms/step\n",
      "7/7 - 1s - loss: 0.3119 - accuracy: 0.9045 - 1s/epoch - 200ms/step\n",
      "7/7 - 1s - loss: 0.4294 - accuracy: 0.8682 - 1s/epoch - 208ms/step\n",
      "7/7 - 2s - loss: 0.2495 - accuracy: 0.9091 - 2s/epoch - 220ms/step\n",
      "7/7 - 2s - loss: 0.3801 - accuracy: 0.8955 - 2s/epoch - 224ms/step\n",
      "7/7 - 1s - loss: 0.2890 - accuracy: 0.9182 - 1s/epoch - 198ms/step\n",
      "7/7 - 1s - loss: 0.3716 - accuracy: 0.8864 - 1s/epoch - 206ms/step\n",
      "132/132 [==============================] - 7s 56ms/step - loss: 0.1946 - accuracy: 0.9460\n",
      "132/132 [==============================] - 7s 56ms/step - loss: 0.1861 - accuracy: 0.9462\n"
     ]
    },
    {
     "name": "stderr",
     "output_type": "stream",
     "text": [
      " 7.05 MiB / 18.84 MiB   37.45%\u001b[2Km40s\r"
     ]
    }
   ],
   "source": [
    "allCl.clients[0].get_nb_weights(4)"
   ]
  },
  {
   "cell_type": "code",
   "execution_count": 37,
   "id": "a2ff26c6",
   "metadata": {},
   "outputs": [
    {
     "name": "stdout",
     "output_type": "stream",
     "text": [
      "0   5\n",
      "1   5\n",
      "2   5\n",
      "3   5\n",
      "\n",
      "0   5\n",
      "1   5\n",
      "2   5\n",
      "3   5\n",
      "\n",
      "0   5\n",
      "1   5\n",
      "2   5\n",
      "3   5\n",
      "\n",
      "0   5\n",
      "1   5\n",
      "2   5\n",
      "3   5\n",
      "\n",
      "0   5\n",
      "1   5\n",
      "2   5\n",
      "3   0\n"
     ]
    }
   ],
   "source": [
    "printLengths(allCl, 0)\n",
    "print()\n",
    "printLengths(allCl, 1)\n",
    "print()\n",
    "printLengths(allCl, 2)\n",
    "print()\n",
    "printLengths(allCl, 3)\n",
    "print()\n",
    "printLengths(allCl, 4)"
   ]
  },
  {
   "cell_type": "code",
   "execution_count": 38,
   "id": "6b757827",
   "metadata": {},
   "outputs": [
    {
     "data": {
      "text/plain": [
       "({0: 0.8502380847930908,\n",
       "  1: 0.897857129573822,\n",
       "  2: 0.9233333468437195,\n",
       "  3: 0.9366666674613953,\n",
       "  4: 0.9504761695861816},\n",
       " {0: 0.7840476036071777,\n",
       "  1: 0.8845238089561462,\n",
       "  2: 0.9295238256454468,\n",
       "  3: 0.9059523940086365,\n",
       "  4: 0.9461904764175415},\n",
       " {0: 0.8678571581840515,\n",
       "  1: 0.8680952191352844,\n",
       "  2: 0.9257143139839172,\n",
       "  3: 0.9319047331809998,\n",
       "  4: 0.9459523558616638},\n",
       " {0: 0.8938094973564148,\n",
       "  1: 0.8971428275108337,\n",
       "  2: 0.9257143139839172,\n",
       "  3: 0.9364285469055176})"
      ]
     },
     "execution_count": 38,
     "metadata": {},
     "output_type": "execute_result"
    }
   ],
   "source": [
    "allCl.clients[0].personal_accuracy, allCl.clients[1].personal_accuracy, allCl.clients[2].personal_accuracy, allCl.clients[3].personal_accuracy"
   ]
  },
  {
   "cell_type": "code",
   "execution_count": 25,
   "id": "8c53b157",
   "metadata": {},
   "outputs": [
    {
     "name": "stdout",
     "output_type": "stream",
     "text": [
      "Current Node:  0\n",
      "Untrained Neighbour:  [1, 2, 0]\n",
      "All neighbours:  [1, 2, 0]\n",
      "Training node  1\n",
      "Training node  2\n",
      "Training node  0\n",
      "Current Node:  1\n",
      "Current Node:  2\n",
      "Untrained Neighbour: Untrained Neighbour:  [3]\n",
      "All neighbours:   [3]\n",
      "All neighbours:  [0, 3, 2]\n",
      "[0, 3, 1]\n",
      "Training node  3\n",
      "Training node  3\n",
      "Current Node: Current Node:   3\n",
      "Untrained Neighbour:  []\n",
      "All neighbours:  [1, 2, 3]3\n",
      "Untrained Neighbour:  []\n",
      "All neighbours:  \n",
      "[1, 2, 3]\n",
      "Training finished for  0\n"
     ]
    },
    {
     "name": "stderr",
     "output_type": "stream",
     "text": [
      "\r",
      " 358 B / 358 B  100.00%\u001b[2K\r",
      "\r",
      " 358 B / 358 B  100.00%"
     ]
    },
    {
     "name": "stdout",
     "output_type": "stream",
     "text": [
      "Training Caller 2:  0\n",
      "Training finished for  3\n"
     ]
    },
    {
     "name": "stderr",
     "output_type": "stream",
     "text": [
      "\r",
      " 355 B / 355 B  100.00%\u001b[2K\r",
      "\r",
      " 355 B / 355 B  100.00%"
     ]
    },
    {
     "name": "stdout",
     "output_type": "stream",
     "text": [
      "Training Caller 2:  3\n"
     ]
    },
    {
     "name": "stderr",
     "output_type": "stream",
     "text": [
      "\r",
      " 354 B / ? \u001b[2K\r",
      "\r",
      " 354 B / 354 B  100.00%"
     ]
    },
    {
     "name": "stdout",
     "output_type": "stream",
     "text": [
      "Training finished for  1\n",
      "Training Caller 2:  1\n",
      "Training over\n",
      "Client  3  training already.\n",
      "Training Caller 2:  3\n"
     ]
    },
    {
     "name": "stderr",
     "output_type": "stream",
     "text": [
      "\r",
      " 360 B / ? \u001b[2K\r",
      "\r",
      " 360 B / 360 B  100.00%"
     ]
    },
    {
     "name": "stdout",
     "output_type": "stream",
     "text": [
      "Training finished for  2\n",
      "Training Caller 2:  2\n"
     ]
    }
   ],
   "source": [
    "allCl.clients[0].get_nb_weights(5)"
   ]
  },
  {
   "cell_type": "code",
   "execution_count": 27,
   "id": "2df0abf8",
   "metadata": {},
   "outputs": [
    {
     "name": "stdout",
     "output_type": "stream",
     "text": [
      "0   10\n",
      "1   10\n",
      "2   10\n",
      "3   10\n",
      "\n",
      "0   10\n",
      "1   10\n",
      "2   10\n",
      "3   10\n",
      "\n",
      "0   10\n",
      "1   10\n",
      "2   10\n",
      "3   10\n",
      "\n",
      "0   10\n",
      "1   10\n",
      "2   10\n",
      "3   10\n",
      "\n",
      "0   10\n",
      "1   10\n",
      "2   10\n",
      "3   10\n",
      "\n",
      "0   10\n",
      "1   10\n",
      "2   10\n",
      "3   0\n"
     ]
    }
   ],
   "source": [
    "printLengths(allCl, 0)\n",
    "print()\n",
    "printLengths(allCl, 1)\n",
    "print()\n",
    "printLengths(allCl, 2)\n",
    "print()\n",
    "printLengths(allCl, 3)\n",
    "print()\n",
    "printLengths(allCl, 4)\n",
    "print()\n",
    "printLengths(allCl, 5)"
   ]
  },
  {
   "cell_type": "code",
   "execution_count": 27,
   "id": "246ddc2d",
   "metadata": {},
   "outputs": [
    {
     "data": {
      "text/plain": [
       "{0: array([-4.43722862, -2.47253855,  2.71434389, -0.83139894, -4.84719159]),\n",
       " 1: array([-4.43722862, -2.47253855,  2.71434389, -0.83139894, -4.84719159]),\n",
       " 2: array([-4.43722862, -2.47253855,  2.71434389, -0.83139894, -4.84719159]),\n",
       " 3: array([-4.43722862, -2.47253855,  2.71434389, -0.83139894, -4.84719159])}"
      ]
     },
     "execution_count": 27,
     "metadata": {},
     "output_type": "execute_result"
    }
   ],
   "source": [
    "allCl.clients[0].federated_intercepts"
   ]
  },
  {
   "cell_type": "code",
   "execution_count": 24,
   "id": "b67b11a5",
   "metadata": {},
   "outputs": [
    {
     "data": {
      "text/plain": [
       "{0: 0.19}"
      ]
     },
     "execution_count": 24,
     "metadata": {},
     "output_type": "execute_result"
    }
   ],
   "source": [
    "allCl.clients[3].personal_accuracy"
   ]
  },
  {
   "cell_type": "code",
   "execution_count": 17,
   "id": "2d100e7f",
   "metadata": {},
   "outputs": [
    {
     "data": {
      "text/plain": [
       "[[-9.08828927688947,\n",
       "  -1.897113601450453,\n",
       "  3.324919978719681,\n",
       "  -3.607171033290969,\n",
       "  -5.6914308345434925],\n",
       " [-2.7825014532674115,\n",
       "  -1.9163357277199058,\n",
       "  1.4142788785330778,\n",
       "  7.635749088239045,\n",
       "  -9.203838156493957],\n",
       " [-1.4408951288098966,\n",
       "  -3.6041663195640137,\n",
       "  3.4038328221333707,\n",
       "  -6.522774884794829,\n",
       "  0.35369420967760234]]"
      ]
     },
     "execution_count": 17,
     "metadata": {},
     "output_type": "execute_result"
    }
   ],
   "source": [
    "allCl.clients[0].nb_intercepts[0]"
   ]
  },
  {
   "cell_type": "code",
   "execution_count": 20,
   "id": "c11e835d",
   "metadata": {},
   "outputs": [
    {
     "data": {
      "text/plain": [
       "[[-9.08828927688947,\n",
       "  -1.897113601450453,\n",
       "  3.324919978719681,\n",
       "  -3.607171033290969,\n",
       "  -5.6914308345434925],\n",
       " [-2.7825014532674115,\n",
       "  -1.9163357277199058,\n",
       "  1.4142788785330778,\n",
       "  7.635749088239045,\n",
       "  -9.203838156493957],\n",
       " [-1.4408951288098966,\n",
       "  -3.6041663195640137,\n",
       "  3.4038328221333707,\n",
       "  -6.522774884794829,\n",
       "  0.35369420967760234]]"
      ]
     },
     "execution_count": 20,
     "metadata": {},
     "output_type": "execute_result"
    }
   ],
   "source": [
    "allCl.clients[0].nb_intercepts[1]"
   ]
  },
  {
   "cell_type": "code",
   "execution_count": 10,
   "id": "f72cfbe6",
   "metadata": {},
   "outputs": [],
   "source": [
    "def client_computation_caller(inp):\n",
    "    client_instance, body = inp\n",
    "    return_message = client_instance.train_client(body['round'])\n",
    "    return return_message"
   ]
  },
  {
   "cell_type": "code",
   "execution_count": 11,
   "id": "46714f27",
   "metadata": {},
   "outputs": [],
   "source": [
    "for ro in range(ROUNDS):\n",
    "    m = multiprocessing.Manager()\n",
    "    lock = m.Lock()\n",
    "    with ThreadPool(CLIENTS) as calling_pool:\n",
    "        args = []\n",
    "        for cl in range(CLIENTS):\n",
    "            body = {'round': ro, 'lock': lock}\n",
    "            args.append((allCl.clients[cl], body))\n",
    "        calling_pool.map(client_computation_caller, args)"
   ]
  },
  {
   "cell_type": "code",
   "execution_count": 46,
   "id": "841d8428",
   "metadata": {},
   "outputs": [
    {
     "data": {
      "text/plain": [
       "[array([-1.19024283, -8.22172283, -9.42661473, -3.97311779, -4.33640538]),\n",
       " array([-10.33395532,   3.24845949,   5.356186  ,  -9.3852317 ,\n",
       "         -2.30635674]),\n",
       " array([-10.55145539, -12.46190679,   0.64291909,  -1.13745339,\n",
       "         -0.18818607]),\n",
       " array([  0.52149334, -16.64293375,  -6.27774062,  -0.99584345,\n",
       "         -0.70731457]),\n",
       " array([-1.44089513, -3.60416632,  3.40383282, -6.52277488,  0.35369421])]"
      ]
     },
     "execution_count": 46,
     "metadata": {},
     "output_type": "execute_result"
    }
   ],
   "source": [
    "allCl.clients[1].personal_intercepts[0]"
   ]
  },
  {
   "cell_type": "code",
   "execution_count": null,
   "id": "07751a71",
   "metadata": {},
   "outputs": [],
   "source": []
  }
 ],
 "metadata": {
  "kernelspec": {
   "display_name": "Python 3 (ipykernel)",
   "language": "python",
   "name": "python3"
  },
  "language_info": {
   "codemirror_mode": {
    "name": "ipython",
    "version": 3
   },
   "file_extension": ".py",
   "mimetype": "text/x-python",
   "name": "python",
   "nbconvert_exporter": "python",
   "pygments_lexer": "ipython3",
   "version": "3.8.10"
  }
 },
 "nbformat": 4,
 "nbformat_minor": 5
}

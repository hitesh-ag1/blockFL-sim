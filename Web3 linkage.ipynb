{
 "cells": [
  {
   "cell_type": "code",
   "execution_count": 21,
   "id": "14764d32",
   "metadata": {},
   "outputs": [],
   "source": [
    "from web3 import Web3, HTTPProvider\n",
    "import json"
   ]
  },
  {
   "cell_type": "code",
   "execution_count": 22,
   "id": "4ce64888",
   "metadata": {},
   "outputs": [],
   "source": [
    "server = Web3(HTTPProvider('http://localhost:8545'))\n",
    "CONTRACT_ADDRESS = server.toChecksumAddress(\"0xdfc65c07c42fb0b8294043bb594ad64c53c30e4d\")\n",
    "DEFAULT_ADDRESS  = server.toChecksumAddress(server.eth.accounts[0])\n",
    "with open('../blkTrial/HelloWorld/build/contracts/Model.json') as f:\n",
    "    contract_data = json.load(f)\n",
    "CONTRACT_ABI = contract_data['abi']\n"
   ]
  },
  {
   "cell_type": "code",
   "execution_count": 23,
   "id": "80e92835",
   "metadata": {},
   "outputs": [
    {
     "data": {
      "text/plain": [
       "'0xe49213c36a324DcCeB21c23bCf332ff3B5346A60'"
      ]
     },
     "execution_count": 23,
     "metadata": {},
     "output_type": "execute_result"
    }
   ],
   "source": [
    "server.eth.accounts[0]"
   ]
  },
  {
   "cell_type": "code",
   "execution_count": 29,
   "id": "cf13d8f0",
   "metadata": {},
   "outputs": [],
   "source": [
    "contract = server.eth.contract(address=CONTRACT_ADDRESS, abi=CONTRACT_ABI)\n",
    "tx_hash = contract.functions.addFile('1', 'dewufhehf29r2rf2nf29n23fh239n23fh2f3fh23fh2').transact({'from':DEFAULT_ADDRESS})"
   ]
  },
  {
   "cell_type": "code",
   "execution_count": 30,
   "id": "906b490c",
   "metadata": {},
   "outputs": [
    {
     "data": {
      "text/plain": [
       "AttributeDict({'transactionHash': HexBytes('0xe18e14c46877801d410eb1800bc50ac636e290aa1f39e0fa532d19e8c38fca61'),\n",
       " 'transactionIndex': 0,\n",
       " 'blockHash': HexBytes('0x33e2a108308ed2ddca4adccc6c6452ac6fb1cb718856d540669027453a045244'),\n",
       " 'blockNumber': 6,\n",
       " 'from': '0xe49213c36a324DcCeB21c23bCf332ff3B5346A60',\n",
       " 'to': '0xDFc65c07c42Fb0B8294043Bb594ad64c53C30E4d',\n",
       " 'gasUsed': 87796,\n",
       " 'cumulativeGasUsed': 87796,\n",
       " 'contractAddress': None,\n",
       " 'logs': [],\n",
       " 'status': 1,\n",
       " 'logsBloom': HexBytes('0x00000000000000000000000000000000000000000000000000000000000000000000000000000000000000000000000000000000000000000000000000000000000000000000000000000000000000000000000000000000000000000000000000000000000000000000000000000000000000000000000000000000000000000000000000000000000000000000000000000000000000000000000000000000000000000000000000000000000000000000000000000000000000000000000000000000000000000000000000000000000000000000000000000000000000000000000000000000000000000000000000000000000000000000000000000000')})"
      ]
     },
     "execution_count": 30,
     "metadata": {},
     "output_type": "execute_result"
    }
   ],
   "source": [
    "server.eth.waitForTransactionReceipt(tx_hash)"
   ]
  },
  {
   "cell_type": "code",
   "execution_count": 33,
   "id": "870f0b3e",
   "metadata": {},
   "outputs": [
    {
     "data": {
      "text/plain": [
       "'dewufhehf29r2rf2nf29n23fh239n23fh2f3fh23fh2'"
      ]
     },
     "execution_count": 33,
     "metadata": {},
     "output_type": "execute_result"
    }
   ],
   "source": [
    "contract = server.eth.contract(address=CONTRACT_ADDRESS, abi=CONTRACT_ABI)\n",
    "contract.functions.getIpfsHashForUser(DEFAULT_ADDRESS, '1').call()"
   ]
  },
  {
   "cell_type": "code",
   "execution_count": null,
   "id": "94b13b1f",
   "metadata": {},
   "outputs": [],
   "source": []
  }
 ],
 "metadata": {
  "kernelspec": {
   "display_name": "Python 3 (ipykernel)",
   "language": "python",
   "name": "python3"
  },
  "language_info": {
   "codemirror_mode": {
    "name": "ipython",
    "version": 3
   },
   "file_extension": ".py",
   "mimetype": "text/x-python",
   "name": "python",
   "nbconvert_exporter": "python",
   "pygments_lexer": "ipython3",
   "version": "3.8.10"
  }
 },
 "nbformat": 4,
 "nbformat_minor": 5
}

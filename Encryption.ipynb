{
 "cells": [
  {
   "cell_type": "code",
   "execution_count": 1,
   "id": "4d20a287",
   "metadata": {},
   "outputs": [],
   "source": [
    "import os\n",
    "import gnupg"
   ]
  },
  {
   "cell_type": "code",
   "execution_count": 2,
   "id": "f3ae1b47",
   "metadata": {},
   "outputs": [],
   "source": [
    "CLIENTS = 4\n",
    "CLIENT_GRAPH = {\n",
    "    0: [1, 2],\n",
    "    1: [0, 3],\n",
    "    2: [0, 3],\n",
    "    3: [1, 2],\n",
    "}"
   ]
  },
  {
   "cell_type": "code",
   "execution_count": 3,
   "id": "14bbb724",
   "metadata": {},
   "outputs": [],
   "source": [
    "def initialize_gpg_agents(CLIENTS):\n",
    "    client_deets = {}\n",
    "    for cl in range(CLIENTS):\n",
    "        folder = \"/home/hitesh/.gnupg\"+str(cl)\n",
    "        \n",
    "        #Make directory\n",
    "        cmd1 = \"mkdir \"+folder\n",
    "        os.system(cmd1)\n",
    "        \n",
    "        #Generate key\n",
    "        gpg = gnupg.GPG(gnupghome=folder)\n",
    "        input_data = gpg.gen_key_input(\n",
    "            name_email='client'+str(cl)+'@xyz.com',\n",
    "            passphrase='1234')\n",
    "        key = gpg.gen_key(input_data)\n",
    "        \n",
    "        client_deets[cl] = {\n",
    "                            'folder': folder, \n",
    "                            'email': 'client'+str(cl)+'@xyz.com', \n",
    "                            'passphrase':'1234',\n",
    "                            'key': key\n",
    "                           }\n",
    "    return client_deets"
   ]
  },
  {
   "cell_type": "code",
   "execution_count": 4,
   "id": "80f70054",
   "metadata": {},
   "outputs": [
    {
     "data": {
      "text/plain": [
       "{0: {'folder': '/home/hitesh/.gnupg0',\n",
       "  'email': 'client0@xyz.com',\n",
       "  'passphrase': '1234',\n",
       "  'key': <gnupg.GenKey at 0x7f85a02894f0>},\n",
       " 1: {'folder': '/home/hitesh/.gnupg1',\n",
       "  'email': 'client1@xyz.com',\n",
       "  'passphrase': '1234',\n",
       "  'key': <gnupg.GenKey at 0x7f85a0282e50>},\n",
       " 2: {'folder': '/home/hitesh/.gnupg2',\n",
       "  'email': 'client2@xyz.com',\n",
       "  'passphrase': '1234',\n",
       "  'key': <gnupg.GenKey at 0x7f85a0269a30>},\n",
       " 3: {'folder': '/home/hitesh/.gnupg3',\n",
       "  'email': 'client3@xyz.com',\n",
       "  'passphrase': '1234',\n",
       "  'key': <gnupg.GenKey at 0x7f85a0251f10>}}"
      ]
     },
     "execution_count": 4,
     "metadata": {},
     "output_type": "execute_result"
    }
   ],
   "source": [
    "CLIENT_DEETS = initialize_gpg_agents(CLIENTS)\n",
    "CLIENT_DEETS"
   ]
  },
  {
   "cell_type": "code",
   "execution_count": 5,
   "id": "3763c1b0",
   "metadata": {},
   "outputs": [],
   "source": [
    "def share_keys(client_graph, client_deets):\n",
    "    for client, client_nbs in client_graph.items():\n",
    "        \n",
    "        #EXPORT\n",
    "        gpg = gnupg.GPG(gnupghome=client_deets[client]['folder'])\n",
    "        ascii_armored_public_keys = gpg.export_keys(client_deets[client]['key'].fingerprint)\n",
    "        with open('mykeyfile.asc', 'w') as f:\n",
    "            f.write(ascii_armored_public_keys)\n",
    "        \n",
    "        #IMPORT\n",
    "        for nb in client_nbs:\n",
    "            gpg = gnupg.GPG(gnupghome=client_deets[nb]['folder'])\n",
    "            key_data = open('mykeyfile.asc').read()\n",
    "            import_result = gpg.import_keys(key_data)"
   ]
  },
  {
   "cell_type": "code",
   "execution_count": 6,
   "id": "74d8a30f",
   "metadata": {},
   "outputs": [],
   "source": [
    "share_keys(CLIENT_GRAPH, client_deets)"
   ]
  },
  {
   "cell_type": "code",
   "execution_count": 9,
   "id": "f19d9e63",
   "metadata": {},
   "outputs": [],
   "source": [
    "# gpg = gnupg.GPG(gnupghome=client_deets[2]['folder'])\n",
    "# gpg.list_keys()"
   ]
  },
  {
   "cell_type": "code",
   "execution_count": 25,
   "id": "fdf6089a",
   "metadata": {},
   "outputs": [],
   "source": [
    "def encrypt_file(client_graph, client_deets, model, node):\n",
    "    gpg = gnupg.GPG(gnupghome=client_deets[node]['folder'])\n",
    "    with open(model, 'rb') as f:\n",
    "        nb_emails = [client_deets[nb]['email'] for nb in client_graph[node]]\n",
    "        status = gpg.encrypt_file(f, recipients=nb_emails, output = model+'.gpg', always_trust=True)\n",
    "    return status.status"
   ]
  },
  {
   "cell_type": "code",
   "execution_count": 26,
   "id": "83532a4b",
   "metadata": {},
   "outputs": [
    {
     "data": {
      "text/plain": [
       "'encryption ok'"
      ]
     },
     "execution_count": 26,
     "metadata": {},
     "output_type": "execute_result"
    }
   ],
   "source": [
    "encrypt_file(CLIENT_GRAPH, CLIENT_DEETS, 'model0.json', 0)"
   ]
  },
  {
   "cell_type": "code",
   "execution_count": 23,
   "id": "606cd7aa",
   "metadata": {},
   "outputs": [],
   "source": [
    "def decrypt_file(client_graph, client_deets, model, node):\n",
    "    gpg = gnupg.GPG(gnupghome=client_deets[node]['folder'])\n",
    "    with open(model, 'rb') as f:\n",
    "        status = gpg.decrypt_file(f, passphrase='1234', output=model+'.json')\n",
    "    return status.status"
   ]
  },
  {
   "cell_type": "code",
   "execution_count": 27,
   "id": "70c4e39c",
   "metadata": {},
   "outputs": [
    {
     "data": {
      "text/plain": [
       "'decryption ok'"
      ]
     },
     "execution_count": 27,
     "metadata": {},
     "output_type": "execute_result"
    }
   ],
   "source": [
    "decrypt_file(CLIENT_GRAPH, CLIENT_DEETS, 'model0.json.gpg', 1)"
   ]
  },
  {
   "cell_type": "code",
   "execution_count": null,
   "id": "22be5712",
   "metadata": {},
   "outputs": [],
   "source": []
  }
 ],
 "metadata": {
  "kernelspec": {
   "display_name": "Python 3 (ipykernel)",
   "language": "python",
   "name": "python3"
  },
  "language_info": {
   "codemirror_mode": {
    "name": "ipython",
    "version": 3
   },
   "file_extension": ".py",
   "mimetype": "text/x-python",
   "name": "python",
   "nbconvert_exporter": "python",
   "pygments_lexer": "ipython3",
   "version": "3.8.10"
  }
 },
 "nbformat": 4,
 "nbformat_minor": 5
}

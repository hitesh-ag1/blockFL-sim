{
 "cells": [
  {
   "cell_type": "code",
   "execution_count": 10,
   "id": "b55b9f2f",
   "metadata": {},
   "outputs": [],
   "source": [
    "import numpy as np\n",
    "import pandas as pd\n",
    "import os\n",
    "import random\n",
    "from sklearn.model_selection import train_test_split\n",
    "from sklearn.linear_model import SGDClassifier\n",
    "import math\n",
    "from data_partition import DistributedDataSet\n",
    "from init_ipfs_nodes import create_ipfs_nodes\n",
    "import ipfshttpclient\n",
    "import piskg\n",
    "import copy\n",
    "import multiprocessing\n",
    "from multiprocessing.pool import ThreadPool\n",
    "from datetime import datetime"
   ]
  },
  {
   "cell_type": "code",
   "execution_count": 11,
   "id": "086a3b90",
   "metadata": {},
   "outputs": [],
   "source": [
    "def generate_random_data(data_size, n_classes, seed):\n",
    "    random.seed(seed)\n",
    "    x_data = pd.DataFrame([[random.random() for _ in range(data_size)], [random.random() for _ in range(data_size)]]).T\n",
    "    y_data = pd.DataFrame([(list(np.arange(n_classes))*int(data_size/n_classes))])\n",
    "    data = pd.DataFrame(np.concatenate((x_data.values, y_data.values.T), axis=1))\n",
    "    data.columns = ['x1', 'x2', 'y']\n",
    "    return data"
   ]
  },
  {
   "cell_type": "code",
   "execution_count": 12,
   "id": "4285e88c",
   "metadata": {},
   "outputs": [],
   "source": [
    "CLIENTS = 8 #don't set more than 9 because of IPFS initialization script\n",
    "CLIENT_GRAPH = {\n",
    "    0: [1, 4],\n",
    "    1: [0, 5, 2],\n",
    "    2: [3, 1],\n",
    "    3: [2, 4, 6],\n",
    "    4: [3, 7, 0],\n",
    "    5: [1],\n",
    "    6: [3],\n",
    "    7: [4]\n",
    "}\n",
    "\n",
    "SEED = 0\n",
    "ROUNDS = 5\n",
    "BATCH_SIZE = 45\n",
    "\n",
    "#supports only pandas dataframe for now. \n",
    "#input values should be labelled as x0, x1, etc. \n",
    "#output values should be labelled as y\n",
    "DATASET = generate_random_data(2000, 5, SEED)"
   ]
  },
  {
   "cell_type": "code",
   "execution_count": 13,
   "id": "51aac34c",
   "metadata": {},
   "outputs": [],
   "source": [
    "dd = DistributedDataSet(DATASET, SEED, BATCH_SIZE, CLIENTS)\n",
    "df_di, test = dd.get_distributed_dataset(0.1)"
   ]
  },
  {
   "cell_type": "code",
   "execution_count": 14,
   "id": "b2d5cad1",
   "metadata": {},
   "outputs": [
    {
     "data": {
      "text/html": [
       "<div>\n",
       "<style scoped>\n",
       "    .dataframe tbody tr th:only-of-type {\n",
       "        vertical-align: middle;\n",
       "    }\n",
       "\n",
       "    .dataframe tbody tr th {\n",
       "        vertical-align: top;\n",
       "    }\n",
       "\n",
       "    .dataframe thead th {\n",
       "        text-align: right;\n",
       "    }\n",
       "</style>\n",
       "<table border=\"1\" class=\"dataframe\">\n",
       "  <thead>\n",
       "    <tr style=\"text-align: right;\">\n",
       "      <th></th>\n",
       "      <th>x1</th>\n",
       "      <th>x2</th>\n",
       "      <th>y</th>\n",
       "    </tr>\n",
       "  </thead>\n",
       "  <tbody>\n",
       "    <tr>\n",
       "      <th>0</th>\n",
       "      <td>0.352789</td>\n",
       "      <td>0.313610</td>\n",
       "      <td>4.0</td>\n",
       "    </tr>\n",
       "    <tr>\n",
       "      <th>1</th>\n",
       "      <td>0.076456</td>\n",
       "      <td>0.896365</td>\n",
       "      <td>3.0</td>\n",
       "    </tr>\n",
       "    <tr>\n",
       "      <th>2</th>\n",
       "      <td>0.196392</td>\n",
       "      <td>0.698080</td>\n",
       "      <td>1.0</td>\n",
       "    </tr>\n",
       "    <tr>\n",
       "      <th>3</th>\n",
       "      <td>0.795012</td>\n",
       "      <td>0.971569</td>\n",
       "      <td>1.0</td>\n",
       "    </tr>\n",
       "    <tr>\n",
       "      <th>4</th>\n",
       "      <td>0.620538</td>\n",
       "      <td>0.330931</td>\n",
       "      <td>2.0</td>\n",
       "    </tr>\n",
       "    <tr>\n",
       "      <th>...</th>\n",
       "      <td>...</td>\n",
       "      <td>...</td>\n",
       "      <td>...</td>\n",
       "    </tr>\n",
       "    <tr>\n",
       "      <th>195</th>\n",
       "      <td>0.551267</td>\n",
       "      <td>0.635284</td>\n",
       "      <td>2.0</td>\n",
       "    </tr>\n",
       "    <tr>\n",
       "      <th>196</th>\n",
       "      <td>0.633089</td>\n",
       "      <td>0.633140</td>\n",
       "      <td>1.0</td>\n",
       "    </tr>\n",
       "    <tr>\n",
       "      <th>197</th>\n",
       "      <td>0.004141</td>\n",
       "      <td>0.118818</td>\n",
       "      <td>0.0</td>\n",
       "    </tr>\n",
       "    <tr>\n",
       "      <th>198</th>\n",
       "      <td>0.700406</td>\n",
       "      <td>0.869067</td>\n",
       "      <td>1.0</td>\n",
       "    </tr>\n",
       "    <tr>\n",
       "      <th>199</th>\n",
       "      <td>0.964119</td>\n",
       "      <td>0.343461</td>\n",
       "      <td>1.0</td>\n",
       "    </tr>\n",
       "  </tbody>\n",
       "</table>\n",
       "<p>200 rows × 3 columns</p>\n",
       "</div>"
      ],
      "text/plain": [
       "           x1        x2    y\n",
       "0    0.352789  0.313610  4.0\n",
       "1    0.076456  0.896365  3.0\n",
       "2    0.196392  0.698080  1.0\n",
       "3    0.795012  0.971569  1.0\n",
       "4    0.620538  0.330931  2.0\n",
       "..        ...       ...  ...\n",
       "195  0.551267  0.635284  2.0\n",
       "196  0.633089  0.633140  1.0\n",
       "197  0.004141  0.118818  0.0\n",
       "198  0.700406  0.869067  1.0\n",
       "199  0.964119  0.343461  1.0\n",
       "\n",
       "[200 rows x 3 columns]"
      ]
     },
     "execution_count": 14,
     "metadata": {},
     "output_type": "execute_result"
    }
   ],
   "source": [
    "test"
   ]
  },
  {
   "cell_type": "code",
   "execution_count": 6,
   "id": "a45253d4",
   "metadata": {},
   "outputs": [],
   "source": [
    "# create_ipfs_nodes(CLIENTS)"
   ]
  },
  {
   "cell_type": "code",
   "execution_count": 7,
   "id": "2df7dc4a",
   "metadata": {},
   "outputs": [],
   "source": [
    "# class ClientNetwork:\n",
    "#     def __init__(self, count, structure, ipfs, blkchain, train_data, test_data):\n",
    "#         self.count = count\n",
    "#         self.structure = structure\n",
    "#         self.clients = ipfs\n",
    "#         self.blkchain = blkchain\n",
    "#         self.train_data = train_data\n",
    "#         self.test_data = test_data\n",
    "        \n",
    "#         self.clients = []\n",
    "        \n",
    "#     def start_clients(self):\n",
    "#         for i in range(self.count):\n",
    "#             ag = Client(i, self.structure[i], sekf.train_data[i], self.ipfs, self.blkchain, self.test)\n",
    "#             self.clients.append(ag)\n",
    "            "
   ]
  },
  {
   "cell_type": "code",
   "execution_count": 43,
   "id": "4e80054c",
   "metadata": {},
   "outputs": [],
   "source": [
    "def getTime(messages):\n",
    "    simulated_communication_times = {message.sender: message.body['time'] for message in messages}\n",
    "    slowest_client = max(simulated_communication_times, key=simulated_communication_times.get)\n",
    "    simulated_time = simulated_communication_times[slowest_client]  # simulated time it would take for server to receive all values\n",
    "    return simulated_time"
   ]
  },
  {
   "cell_type": "code",
   "execution_count": 8,
   "id": "a37688e0",
   "metadata": {},
   "outputs": [],
   "source": [
    "class Message:\n",
    "    def __init__(self, sender, receiver, body):\n",
    "        self.sender = sender\n",
    "        self.receiver = receiver\n",
    "        self.body = body"
   ]
  },
  {
   "cell_type": "code",
   "execution_count": 151,
   "id": "21a660ca",
   "metadata": {},
   "outputs": [],
   "source": [
    "class Client:\n",
    "    def __init__(self, client_id, neighbour_ids, client_datasets, client_ipfs_node, client_blkchain_node, test_dataset):\n",
    "        \n",
    "        self.client_id = client_id\n",
    "        self.neighbour_ids = neighbour_ids\n",
    "        self.client_datasets = client_datasets\n",
    "        self.client_ipfs_node = client_ipfs_node\n",
    "        self.client_blkchain_node = client_blkchain_node\n",
    "        self.test_dataset = test_dataset\n",
    "        \n",
    "        self.personal_weights = {}\n",
    "        self.personal_intercepts = {}\n",
    "        \n",
    "        self.federated_weights = {}\n",
    "        self.federated_intercepts = {}\n",
    "        \n",
    "        self.personal_accuracy = {}\n",
    "        self.federated_accuracy = {}\n",
    "        \n",
    "        self.train_time = {}\n",
    "        \n",
    "        self.nb_weights = {}\n",
    "        self.nb_intercepts = {}\n",
    "    \n",
    "    def client_train_caller(self, deets):\n",
    "        \n",
    "        client_instance, msg = deets\n",
    "        \n",
    "        if(client_instance.client_id == self.client_id):\n",
    "            m = self.train_client(msg)\n",
    "        else:  \n",
    "            m = client_instance.train_client(msg)\n",
    "        return m\n",
    "    \n",
    "    def get_nb_weights(self, round_it):\n",
    "        m = multiprocessing.Manager()\n",
    "        lock = m.Lock()\n",
    "        with ThreadPool(len(self.neighbour_ids)) as calling_pool:\n",
    "            args = []\n",
    "            self.neighbour_ids.append(self.client_id)\n",
    "            for cl in (self.neighbour_ids):\n",
    "                body = {'round': round_it, 'lock': lock}\n",
    "                msg = Message(self.client_id, cl, body)\n",
    "                args.append((allCl.clients[cl], msg))\n",
    "            self.neighbour_ids.remove(self.client_id)\n",
    "            msgs = calling_pool.map(self.client_train_caller, args)\n",
    "        \n",
    "        time_start = datetime.now()\n",
    "        train_time = getTime(msgs)\n",
    "        \n",
    "        self.nb_weights[round_it] = []\n",
    "        self.nb_intercepts[round_it] = []\n",
    "        \n",
    "        for msg in msgs:\n",
    "            self.nb_weights[round_it].append(msg.body['weights'])\n",
    "            self.nb_intercepts[round_it].append(msg.body['intercepts'])\n",
    "        \n",
    "        time_stop = datetime.now()\n",
    "        fedtime = time_stop - time_start\n",
    "        totTime = fedtime+train_time\n",
    "#         print(totTime)\n",
    "        self.FedAvg(round_it)\n",
    "        return msgs\n",
    "    \n",
    "    def FedAvg(self, round_it):\n",
    "        self.federated_weights[round_it] = np.average(self.nb_weights[round_it], axis=0)\n",
    "        self.federated_intercepts[round_it] = np.average(self.nb_intercepts[round_it], axis=0)\n",
    "    \n",
    "    def train_client(self, message):\n",
    "        round_it = message.body['round']\n",
    "        start_time = datetime.now()\n",
    "        for epoch in range(len(self.client_datasets)):\n",
    "            X = self.client_datasets[epoch][['x1','x2']]\n",
    "            y = self.client_datasets[epoch]['y']\n",
    "            weights, intercepts = self.compute_epoch(X, y, round_it, epoch)\n",
    "            if(epoch==0):\n",
    "                self.personal_weights[round_it] = []\n",
    "                self.personal_intercepts[round_it] = []\n",
    "                \n",
    "            self.personal_weights[round_it].append(weights)\n",
    "            self.personal_intercepts[round_it].append(intercepts)\n",
    "        stop_time = datetime.now()\n",
    "        comp_time = stop_time - start_time\n",
    "        self.train_time[round_it] = comp_time\n",
    "        \n",
    "        body = {\n",
    "            'weights': self.personal_weights[round_it][epoch],\n",
    "            'intercepts': self.personal_intercepts[round_it][epoch],\n",
    "            'time': self.train_time[round_it]\n",
    "        }\n",
    "        \n",
    "        m = Message(self.client_id, message.sender, body)\n",
    "        \n",
    "        return m\n",
    "    \n",
    "    def compute_epoch(self, X, y, round_it, epoch):            \n",
    "            \n",
    "        lr = SGDClassifier(alpha=0.0001, loss=\"log\", random_state=0)\n",
    "\n",
    "        if epoch >= 1:\n",
    "            weights = copy.deepcopy(self.personal_weights[round_it][epoch - 1])\n",
    "            intercepts = copy.deepcopy(self.personal_intercepts[round_it][epoch - 1])\n",
    "        else:\n",
    "            if(round_it>=1):\n",
    "#                 if(sender==receiver):\n",
    "#                     weights = copy.deepcopy(self.federated_weights[round_it - 1])\n",
    "#                     intercepts = copy.deepcopy(self.federated_intercepts[round_it - 1])\n",
    "#                 else:\n",
    "                    weights = None\n",
    "                    intercepts = None\n",
    "\n",
    "            else:\n",
    "                weights = None\n",
    "                intercepts = None\n",
    "        \n",
    "        lr.fit(X, y, coef_init=weights, intercept_init=intercepts)\n",
    "        local_weights = lr.coef_\n",
    "        local_intercepts = lr.intercept_\n",
    "        \n",
    "        if(epoch==(len(self.client_datasets) - 1)):\n",
    "            acc = lr.score(self.test_dataset[['x1', 'x2']], self.test_dataset['y'])\n",
    "            self.personal_accuracy[round_it] = acc\n",
    "            \n",
    "        return local_weights, local_intercepts\n",
    "        \n",
    "#     def federated_averaging(self):\n",
    "        "
   ]
  },
  {
   "cell_type": "code",
   "execution_count": 152,
   "id": "a4dce9dc",
   "metadata": {},
   "outputs": [],
   "source": [
    "class AllClients:\n",
    "    def __init__(self, clients):\n",
    "        self.clients = clients"
   ]
  },
  {
   "cell_type": "code",
   "execution_count": 153,
   "id": "b12d2661",
   "metadata": {},
   "outputs": [],
   "source": [
    "client_li = []\n",
    "for i in range(CLIENTS):\n",
    "    ag = Client(i, CLIENT_GRAPH[i], df_di[i], '.ipfs_fl'+str(i), '1234', test)\n",
    "    client_li.append(ag)\n",
    "\n",
    "allCl = AllClients(client_li)"
   ]
  },
  {
   "cell_type": "code",
   "execution_count": 154,
   "id": "2d15726d",
   "metadata": {},
   "outputs": [],
   "source": [
    "for i in range(ROUNDS):\n",
    "    allCl.clients[0].get_nb_weights(i)"
   ]
  },
  {
   "cell_type": "code",
   "execution_count": null,
   "id": "f8fc5c9f",
   "metadata": {},
   "outputs": [],
   "source": []
  },
  {
   "cell_type": "code",
   "execution_count": 146,
   "id": "c8b55f7f",
   "metadata": {},
   "outputs": [
    {
     "data": {
      "text/plain": [
       "{0: array([-2.9494123 , -2.2328988 , -1.08268978, -2.6132876 , -6.12077549]),\n",
       " 1: array([-2.9494123 , -2.2328988 , -1.08268978, -2.6132876 , -6.12077549]),\n",
       " 2: array([-2.9494123 , -2.2328988 , -1.08268978, -2.6132876 , -6.12077549]),\n",
       " 3: array([-2.9494123 , -2.2328988 , -1.08268978, -2.6132876 , -6.12077549]),\n",
       " 4: array([-2.9494123 , -2.2328988 , -1.08268978, -2.6132876 , -6.12077549])}"
      ]
     },
     "execution_count": 146,
     "metadata": {},
     "output_type": "execute_result"
    }
   ],
   "source": [
    "allCl.clients[0].federated_intercepts"
   ]
  },
  {
   "cell_type": "code",
   "execution_count": 118,
   "id": "c83f1bb4",
   "metadata": {},
   "outputs": [
    {
     "data": {
      "text/plain": [
       "{0: array([[-0.00656982, -2.56678521],\n",
       "        [ 1.48872879,  0.956123  ],\n",
       "        [-4.35790851,  0.59425873],\n",
       "        [-3.75900294, -0.31640623],\n",
       "        [ 2.58218439,  0.89388052]])}"
      ]
     },
     "execution_count": 118,
     "metadata": {},
     "output_type": "execute_result"
    }
   ],
   "source": [
    "allCl.clients[0].federated_weights"
   ]
  },
  {
   "cell_type": "code",
   "execution_count": 68,
   "id": "cf72d082",
   "metadata": {},
   "outputs": [
    {
     "data": {
      "text/plain": [
       "{0: [array([-1.44089513, -3.60416632,  3.40383282, -6.52277488,  0.35369421]),\n",
       "  array([ -4.61638252,  -0.93427944,  -4.9498795 ,   3.39185783,\n",
       "         -19.35442808]),\n",
       "  array([-2.79095926, -2.16025066, -1.70202267, -4.70894576,  0.63840739])]}"
      ]
     },
     "execution_count": 68,
     "metadata": {},
     "output_type": "execute_result"
    }
   ],
   "source": [
    "allCl.clients[0].nb_intercepts"
   ]
  },
  {
   "cell_type": "code",
   "execution_count": 10,
   "id": "f72cfbe6",
   "metadata": {},
   "outputs": [],
   "source": [
    "def client_computation_caller(inp):\n",
    "    client_instance, body = inp\n",
    "    return_message = client_instance.train_client(body['round'])\n",
    "    return return_message"
   ]
  },
  {
   "cell_type": "code",
   "execution_count": 11,
   "id": "46714f27",
   "metadata": {},
   "outputs": [],
   "source": [
    "for ro in range(ROUNDS):\n",
    "    m = multiprocessing.Manager()\n",
    "    lock = m.Lock()\n",
    "    with ThreadPool(CLIENTS) as calling_pool:\n",
    "        args = []\n",
    "        for cl in range(CLIENTS):\n",
    "            body = {'round': ro, 'lock': lock}\n",
    "            args.append((allCl.clients[cl], body))\n",
    "        calling_pool.map(client_computation_caller, args)"
   ]
  },
  {
   "cell_type": "code",
   "execution_count": 46,
   "id": "841d8428",
   "metadata": {},
   "outputs": [
    {
     "data": {
      "text/plain": [
       "[array([-1.19024283, -8.22172283, -9.42661473, -3.97311779, -4.33640538]),\n",
       " array([-10.33395532,   3.24845949,   5.356186  ,  -9.3852317 ,\n",
       "         -2.30635674]),\n",
       " array([-10.55145539, -12.46190679,   0.64291909,  -1.13745339,\n",
       "         -0.18818607]),\n",
       " array([  0.52149334, -16.64293375,  -6.27774062,  -0.99584345,\n",
       "         -0.70731457]),\n",
       " array([-1.44089513, -3.60416632,  3.40383282, -6.52277488,  0.35369421])]"
      ]
     },
     "execution_count": 46,
     "metadata": {},
     "output_type": "execute_result"
    }
   ],
   "source": [
    "allCl.clients[1].personal_intercepts[0]"
   ]
  },
  {
   "cell_type": "code",
   "execution_count": null,
   "id": "07751a71",
   "metadata": {},
   "outputs": [],
   "source": []
  }
 ],
 "metadata": {
  "kernelspec": {
   "display_name": "Python 3 (ipykernel)",
   "language": "python",
   "name": "python3"
  },
  "language_info": {
   "codemirror_mode": {
    "name": "ipython",
    "version": 3
   },
   "file_extension": ".py",
   "mimetype": "text/x-python",
   "name": "python",
   "nbconvert_exporter": "python",
   "pygments_lexer": "ipython3",
   "version": "3.8.10"
  }
 },
 "nbformat": 4,
 "nbformat_minor": 5
}

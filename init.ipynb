{
 "cells": [
  {
   "cell_type": "code",
   "execution_count": 1,
   "id": "b55b9f2f",
   "metadata": {},
   "outputs": [],
   "source": [
    "import numpy as np\n",
    "import pandas as pd\n",
    "import os\n",
    "import random\n",
    "from sklearn.model_selection import train_test_split\n",
    "from sklearn.linear_model import SGDClassifier\n",
    "import math\n",
    "from data_partition import DistributedDataSet\n",
    "from init_ipfs_nodes import create_ipfs_nodes\n",
    "import ipfshttpclient\n",
    "import piskg\n",
    "import copy\n",
    "import multiprocessing\n",
    "from multiprocessing.pool import ThreadPool\n",
    "from datetime import datetime\n",
    "from datetime import timedelta\n",
    "import json\n",
    "import time\n",
    "from web3 import Web3, HTTPProvider\n",
    "import json"
   ]
  },
  {
   "cell_type": "code",
   "execution_count": 2,
   "id": "086a3b90",
   "metadata": {},
   "outputs": [],
   "source": [
    "def generate_random_data(data_size, n_classes, seed):\n",
    "    random.seed(seed)\n",
    "    x_data = pd.DataFrame([[random.random() for _ in range(data_size)], [random.random() for _ in range(data_size)]]).T\n",
    "    y_data = pd.DataFrame([(list(np.arange(n_classes))*int(data_size/n_classes))])\n",
    "    data = pd.DataFrame(np.concatenate((x_data.values, y_data.values.T), axis=1))\n",
    "    data.columns = ['x1', 'x2', 'y']\n",
    "    return data"
   ]
  },
  {
   "cell_type": "code",
   "execution_count": 3,
   "id": "4285e88c",
   "metadata": {},
   "outputs": [],
   "source": [
    "# CLIENTS = 8 #don't set more than 9 because of IPFS initialization script\n",
    "# CLIENT_GRAPH = {\n",
    "#     0: [1, 4],\n",
    "#     1: [0, 5, 2],\n",
    "#     2: [3, 1],\n",
    "#     3: [2, 4, 6],\n",
    "#     4: [3, 7, 0],\n",
    "#     5: [1],\n",
    "#     6: [3],\n",
    "#     7: [4]\n",
    "# }\n",
    "\n",
    "CLIENTS = 4 #don't set more than 9 because of IPFS initialization script\n",
    "CLIENT_GRAPH = {\n",
    "    0: [1, 2],\n",
    "    1: [0, 3],\n",
    "    2: [0, 3],\n",
    "    3: [1, 2],\n",
    "}\n",
    "\n",
    "SEED = 0\n",
    "ROUNDS = 5\n",
    "BATCH_SIZE = 45\n",
    "\n",
    "#supports only pandas dataframe for now. \n",
    "#input values should be labelled as x0, x1, etc. \n",
    "#output values should be labelled as y\n",
    "DATASET = generate_random_data(2000, 5, SEED)\n",
    "\n",
    "server = Web3(HTTPProvider('http://localhost:8545'))\n",
    "CONTRACT_ADDRESS = server.toChecksumAddress(\"0xdcf23f956e84b892efbf75f029478c6f75f196e5\")\n",
    "DEFAULT_ADDRESS  = server.toChecksumAddress(server.eth.accounts[0])\n",
    "with open('../blkTrial/HelloWorld/build/contracts/Model.json') as f:\n",
    "    CONTRACT_DATA = json.load(f)\n",
    "CONTRACT_ABI = CONTRACT_DATA['abi']\n",
    "BLKCHAIN_ACCOUNTS = server.eth.accounts"
   ]
  },
  {
   "cell_type": "code",
   "execution_count": 4,
   "id": "51aac34c",
   "metadata": {},
   "outputs": [],
   "source": [
    "dd = DistributedDataSet(DATASET, SEED, BATCH_SIZE, CLIENTS)\n",
    "df_di, test = dd.get_distributed_dataset(0.1)"
   ]
  },
  {
   "cell_type": "code",
   "execution_count": 5,
   "id": "a45253d4",
   "metadata": {},
   "outputs": [
    {
     "name": "stdout",
     "output_type": "stream",
     "text": [
      "generating ED25519 keypair...done\n",
      "peer identity: 12D3KooWCxoxM2A4VBEKRmbdo3pDubuRZgRq5okWDr5CRNDMzAAa\n",
      "initializing IPFS node at /home/hitesh/.ipfs_fl0\n",
      "to get started, enter:\n",
      "\n",
      "\tipfs cat /ipfs/QmQPeNsJPyVWPFDVHb77w8G42Fvo15z4bG2X8D2GhfbSXc/readme\n",
      "\n",
      "removed /dnsaddr/bootstrap.libp2p.io/p2p/QmNnooDu7bfjPFoTZYxMNLWUQJyrVwtbZg5gBMjTezGAJN\n",
      "removed /dnsaddr/bootstrap.libp2p.io/p2p/QmQCU2EcMqAqQPR2i9bChDtGNJchTbq5TbXJJ16u19uLTa\n",
      "removed /dnsaddr/bootstrap.libp2p.io/p2p/QmbLHAnMoJPWSCR5Zhtx6BHJX9KiKNN6tpvbUcqanj75Nb\n",
      "removed /dnsaddr/bootstrap.libp2p.io/p2p/QmcZf59bWwK5XFi76CZX8cbJ4BhTzzA3gU1ZjYZcYW3dwt\n",
      "removed /ip4/104.131.131.82/tcp/4001/p2p/QmaCpDMGvV2BGHeYERUEnRQAwe3N8SzbUtfsmvsqQLuvuJ\n",
      "removed /ip4/104.131.131.82/udp/4001/quic/p2p/QmaCpDMGvV2BGHeYERUEnRQAwe3N8SzbUtfsmvsqQLuvuJ\n",
      "generating ED25519 keypair...done\n",
      "peer identity: 12D3KooWEcYTmjgb5avwkDv3uggmtRbUmAnQDyem7x5GDDLsi8JV\n",
      "initializing IPFS node at /home/hitesh/.ipfs_fl1\n",
      "to get started, enter:\n",
      "\n",
      "\tipfs cat /ipfs/QmQPeNsJPyVWPFDVHb77w8G42Fvo15z4bG2X8D2GhfbSXc/readme\n",
      "\n",
      "removed /dnsaddr/bootstrap.libp2p.io/p2p/QmNnooDu7bfjPFoTZYxMNLWUQJyrVwtbZg5gBMjTezGAJN\n",
      "removed /dnsaddr/bootstrap.libp2p.io/p2p/QmQCU2EcMqAqQPR2i9bChDtGNJchTbq5TbXJJ16u19uLTa\n",
      "removed /dnsaddr/bootstrap.libp2p.io/p2p/QmbLHAnMoJPWSCR5Zhtx6BHJX9KiKNN6tpvbUcqanj75Nb\n",
      "removed /dnsaddr/bootstrap.libp2p.io/p2p/QmcZf59bWwK5XFi76CZX8cbJ4BhTzzA3gU1ZjYZcYW3dwt\n",
      "removed /ip4/104.131.131.82/tcp/4001/p2p/QmaCpDMGvV2BGHeYERUEnRQAwe3N8SzbUtfsmvsqQLuvuJ\n",
      "removed /ip4/104.131.131.82/udp/4001/quic/p2p/QmaCpDMGvV2BGHeYERUEnRQAwe3N8SzbUtfsmvsqQLuvuJ\n",
      "generating ED25519 keypair...done\n",
      "peer identity: 12D3KooWEqcjnb2JRmn7wA8MZcPphkRapMMMWehnse4EY2HyMATm\n",
      "initializing IPFS node at /home/hitesh/.ipfs_fl2\n",
      "to get started, enter:\n",
      "\n",
      "\tipfs cat /ipfs/QmQPeNsJPyVWPFDVHb77w8G42Fvo15z4bG2X8D2GhfbSXc/readme\n",
      "\n",
      "removed /dnsaddr/bootstrap.libp2p.io/p2p/QmNnooDu7bfjPFoTZYxMNLWUQJyrVwtbZg5gBMjTezGAJN\n",
      "removed /dnsaddr/bootstrap.libp2p.io/p2p/QmQCU2EcMqAqQPR2i9bChDtGNJchTbq5TbXJJ16u19uLTa\n",
      "removed /dnsaddr/bootstrap.libp2p.io/p2p/QmbLHAnMoJPWSCR5Zhtx6BHJX9KiKNN6tpvbUcqanj75Nb\n",
      "removed /dnsaddr/bootstrap.libp2p.io/p2p/QmcZf59bWwK5XFi76CZX8cbJ4BhTzzA3gU1ZjYZcYW3dwt\n",
      "removed /ip4/104.131.131.82/tcp/4001/p2p/QmaCpDMGvV2BGHeYERUEnRQAwe3N8SzbUtfsmvsqQLuvuJ\n",
      "removed /ip4/104.131.131.82/udp/4001/quic/p2p/QmaCpDMGvV2BGHeYERUEnRQAwe3N8SzbUtfsmvsqQLuvuJ\n",
      "generating ED25519 keypair...done\n",
      "peer identity: 12D3KooWNtxMhWDBHoEYAWs4h9v7b16Uw8FcW3ZrVKF7ovyZsrUm\n",
      "initializing IPFS node at /home/hitesh/.ipfs_fl3\n",
      "to get started, enter:\n",
      "\n",
      "\tipfs cat /ipfs/QmQPeNsJPyVWPFDVHb77w8G42Fvo15z4bG2X8D2GhfbSXc/readme\n",
      "\n",
      "removed /dnsaddr/bootstrap.libp2p.io/p2p/QmNnooDu7bfjPFoTZYxMNLWUQJyrVwtbZg5gBMjTezGAJN\n",
      "removed /dnsaddr/bootstrap.libp2p.io/p2p/QmQCU2EcMqAqQPR2i9bChDtGNJchTbq5TbXJJ16u19uLTa\n",
      "removed /dnsaddr/bootstrap.libp2p.io/p2p/QmbLHAnMoJPWSCR5Zhtx6BHJX9KiKNN6tpvbUcqanj75Nb\n",
      "removed /dnsaddr/bootstrap.libp2p.io/p2p/QmcZf59bWwK5XFi76CZX8cbJ4BhTzzA3gU1ZjYZcYW3dwt\n",
      "removed /ip4/104.131.131.82/tcp/4001/p2p/QmaCpDMGvV2BGHeYERUEnRQAwe3N8SzbUtfsmvsqQLuvuJ\n",
      "removed /ip4/104.131.131.82/udp/4001/quic/p2p/QmaCpDMGvV2BGHeYERUEnRQAwe3N8SzbUtfsmvsqQLuvuJ\n",
      "added /ip4/172.18.76.138/tcp/4002/ipfs/12D3KooWCxoxM2A4VBEKRmbdo3pDubuRZgRq5okWDr5CRNDMzAAa\n",
      "added /ip4/172.18.76.138/tcp/4002/ipfs/12D3KooWCxoxM2A4VBEKRmbdo3pDubuRZgRq5okWDr5CRNDMzAAa\n",
      "added /ip4/172.18.76.138/tcp/4002/ipfs/12D3KooWCxoxM2A4VBEKRmbdo3pDubuRZgRq5okWDr5CRNDMzAAa\n",
      "added /ip4/172.18.76.138/tcp/4002/ipfs/12D3KooWCxoxM2A4VBEKRmbdo3pDubuRZgRq5okWDr5CRNDMzAAa\n",
      "Initializing daemon...\n",
      "go-ipfs version: 0.11.0\n",
      "Repo version: 11\n",
      "System version: amd64/linux\n",
      "Golang version: go1.16.12\n",
      "Initializing daemon...\n",
      "go-ipfs version: 0.11.0\n",
      "Repo version: 11\n",
      "System version: amd64/linux\n",
      "Golang version: go1.16.12\n",
      "Initializing daemon...\n",
      "go-ipfs version: 0.11.0\n",
      "Repo version: 11\n",
      "System version: amd64/linux\n",
      "Golang version: go1.16.12\n",
      "Initializing daemon...\n",
      "go-ipfs version: 0.11.0\n",
      "Repo version: 11\n",
      "System version: amd64/linux\n",
      "Golang version: go1.16.12\n",
      "Swarm is limited to private network of peers with the swarm key\n",
      "Swarm key fingerprint: 2f5c655d176746420a9c43ef008b0bb1\n",
      "Swarm listening on /ip4/127.0.0.1/tcp/4005\n",
      "Swarm listening on /ip4/172.18.76.138/tcp/4005\n",
      "Swarm listening on /ip6/::1/tcp/4005\n",
      "Swarm listening on /p2p-circuit\n",
      "Swarm announcing /ip4/127.0.0.1/tcp/4005\n",
      "Swarm announcing /ip4/172.18.76.138/tcp/4005\n",
      "Swarm announcing /ip6/::1/tcp/4005\n",
      "API server listening on /ip4/127.0.0.1/tcp/5005\n",
      "WebUI: http://127.0.0.1:5005/webui\n",
      "Gateway (readonly) server listening on /ip4/127.0.0.1/tcp/8084\n",
      "Daemon is ready\n",
      "Swarm is limited to private network of peers with the swarm key\n",
      "Swarm key fingerprint: 2f5c655d176746420a9c43ef008b0bb1\n",
      "Swarm listening on /ip4/127.0.0.1/tcp/4004\n",
      "Swarm listening on /ip4/172.18.76.138/tcp/4004\n",
      "Swarm listening on /ip6/::1/tcp/4004\n",
      "Swarm listening on /p2p-circuit\n",
      "Swarm is limited to private network of peers with the swarm key\n",
      "Swarm key fingerprint: 2f5c655d176746420a9c43ef008b0bb1\n",
      "Swarm listening on /ip4/127.0.0.1/tcp/4002\n",
      "Swarm listening on /ip4/172.18.76.138/tcp/4002\n",
      "Swarm listening on /ip6/::1/tcp/4002\n",
      "Swarm listening on /p2p-circuit\n",
      "Swarm announcing /ip4/127.0.0.1/tcp/4002\n",
      "Swarm announcing /ip4/172.18.76.138/tcp/4002\n",
      "Swarm announcing /ip6/::1/tcp/4002\n",
      "API server listening on /ip4/127.0.0.1/tcp/5002\n",
      "WebUI: http://127.0.0.1:5002/webui\n",
      "Gateway (readonly) server listening on /ip4/127.0.0.1/tcp/8081\n",
      "Daemon is ready\n",
      "Swarm announcing /ip4/127.0.0.1/tcp/4004\n",
      "Swarm announcing /ip4/172.18.76.138/tcp/4004\n",
      "Swarm announcing /ip6/::1/tcp/4004\n",
      "API server listening on /ip4/127.0.0.1/tcp/5004\n",
      "WebUI: http://127.0.0.1:5004/webui\n",
      "Gateway (readonly) server listening on /ip4/127.0.0.1/tcp/8083\n",
      "Daemon is ready\n",
      "Swarm is limited to private network of peers with the swarm key\n",
      "Swarm key fingerprint: 2f5c655d176746420a9c43ef008b0bb1\n",
      "Swarm listening on /ip4/127.0.0.1/tcp/4003\n",
      "Swarm listening on /ip4/172.18.76.138/tcp/4003\n",
      "Swarm listening on /ip6/::1/tcp/4003\n",
      "Swarm listening on /p2p-circuit\n",
      "Swarm announcing /ip4/127.0.0.1/tcp/4003\n",
      "Swarm announcing /ip4/172.18.76.138/tcp/4003\n",
      "Swarm announcing /ip6/::1/tcp/4003\n",
      "API server listening on /ip4/127.0.0.1/tcp/5003\n",
      "WebUI: http://127.0.0.1:5003/webui\n",
      "Gateway (readonly) server listening on /ip4/127.0.0.1/tcp/8082\n",
      "Daemon is ready\n"
     ]
    }
   ],
   "source": [
    "create_ipfs_nodes(CLIENTS)"
   ]
  },
  {
   "cell_type": "code",
   "execution_count": 6,
   "id": "2df7dc4a",
   "metadata": {},
   "outputs": [],
   "source": [
    "# class ClientNetwork:\n",
    "#     def __init__(self, count, structure, ipfs, blkchain, train_data, test_data):\n",
    "#         self.count = count\n",
    "#         self.structure = structure\n",
    "#         self.clients = ipfs\n",
    "#         self.blkchain = blkchain\n",
    "#         self.train_data = train_data\n",
    "#         self.test_data = test_data\n",
    "        \n",
    "#         self.clients = []\n",
    "        \n",
    "#     def start_clients(self):\n",
    "#         for i in range(self.count):\n",
    "#             ag = Client(i, self.structure[i], sekf.train_data[i], self.ipfs, self.blkchain, self.test)\n",
    "#             self.clients.append(ag)\n",
    "            "
   ]
  },
  {
   "cell_type": "code",
   "execution_count": 7,
   "id": "46515a6d",
   "metadata": {},
   "outputs": [],
   "source": [
    "def default(obj):\n",
    "    if type(obj).__module__ == np.__name__:\n",
    "        if isinstance(obj, np.ndarray):\n",
    "            return obj.tolist()\n",
    "        else:\n",
    "            return obj.item()\n",
    "    else:\n",
    "        return obj.total_seconds()\n",
    "#     raise TypeError('Unknown type:', type(obj))"
   ]
  },
  {
   "cell_type": "code",
   "execution_count": 8,
   "id": "ab40751e",
   "metadata": {},
   "outputs": [],
   "source": [
    "def getTime(messages):\n",
    "    simulated_communication_times = {i: messages[i]['time'] for i in range(len(messages))}\n",
    "    slowest_client = max(simulated_communication_times, key=simulated_communication_times.get)\n",
    "    simulated_time = simulated_communication_times[slowest_client]  # simulated time it would take for server to receive all values\n",
    "    return simulated_time"
   ]
  },
  {
   "cell_type": "code",
   "execution_count": 9,
   "id": "a37688e0",
   "metadata": {},
   "outputs": [],
   "source": [
    "class Message:\n",
    "    def __init__(self, sender, receiver, body):\n",
    "        self.sender = sender\n",
    "        self.receiver = receiver\n",
    "        self.body = body"
   ]
  },
  {
   "cell_type": "code",
   "execution_count": 10,
   "id": "21a660ca",
   "metadata": {},
   "outputs": [],
   "source": [
    "class Client:\n",
    "    def __init__(self, client_id, neighbour_ids, client_datasets, client_ipfs_node, client_blkchain_node, test_dataset):\n",
    "        \n",
    "        self.client_id = client_id\n",
    "        self.neighbour_ids = neighbour_ids\n",
    "        self.neighbour_ids.append(self.client_id) #neighbour includes itself\n",
    "        self.client_datasets = client_datasets\n",
    "        self.client_ipfs_node = client_ipfs_node\n",
    "        self.client_blkchain_node = client_blkchain_node\n",
    "        self.test_dataset = test_dataset\n",
    "        \n",
    "        self.personal_weights = {}\n",
    "        self.personal_intercepts = {}\n",
    "        \n",
    "        self.federated_weights = {}\n",
    "        self.federated_intercepts = {}\n",
    "        \n",
    "        self.personal_accuracy = {}\n",
    "        self.federated_accuracy = {}\n",
    "        \n",
    "        self.train_time = {}\n",
    "        \n",
    "        self.nb_weights = {}\n",
    "        self.nb_intercepts = {}\n",
    "        \n",
    "        self.ipfsHash = {}\n",
    "        \n",
    "        self.nb_hash = {}\n",
    "        \n",
    "        self.blkchain_update = {}\n",
    "    \n",
    "    def addModelIpfs(self, round_it):\n",
    "        start_time = datetime.now()\n",
    "        model = {\n",
    "                 'weights': self.personal_weights[round_it][len(self.client_datasets) - 1],\n",
    "                 'intercepts': self.personal_intercepts[round_it][len(self.client_datasets) - 1],\n",
    "                 'time': self.train_time[round_it]\n",
    "                }\n",
    "        with open('model'+str(self.client_id)+'.json', 'w') as f:\n",
    "            json.dump(model, f, default=default)\n",
    "\n",
    "        cmd = \"IPFS_PATH=~/\"+self.client_ipfs_node+\" ipfs add model\"+str(self.client_id)+\".json\"\n",
    "        \n",
    "        try:\n",
    "            modelHash = (os.popen(cmd).read()).strip()\n",
    "            modelHash = modelHash.split()[1]\n",
    "            self.ipfsHash[round_it] = modelHash\n",
    "            stop_time = datetime.now()\n",
    "            ipfs_time = (stop_time - start_time)\n",
    "            return modelHash\n",
    "        except:\n",
    "            stop_time = datetime.now()\n",
    "            ipfs_time = (stop_time - start_time)\n",
    "            return 0\n",
    "        \n",
    "    def recModelIpfs(self, round_it, ipfs_hash):\n",
    "#         try:\n",
    "            cmd = \"IPFS_PATH=~/\"+self.client_ipfs_node+\" ipfs cat \"+ipfs_hash\n",
    "            model = (os.popen(cmd).read()).strip()\n",
    "            start_time = datetime.now()\n",
    "            model = json.loads(os.popen(cmd).read())\n",
    "            stop_time = datetime.now()\n",
    "            ipfs_time = (stop_time - start_time)\n",
    "            return model\n",
    "#         except KeyError:\n",
    "#             print(self.client_ipfs_node, round_it)\n",
    "#             return None\n",
    "        \n",
    "    def modelChecker(self, round_it):\n",
    "        try:\n",
    "            a = self.ipfsHash[round_it]\n",
    "            return None\n",
    "        except KeyError:\n",
    "            return self.client_id\n",
    "    \n",
    "    def client_modelCheck_caller(self, deets):\n",
    "        client_instance, msg = deets\n",
    "        round_it = msg.body['round']\n",
    "        m = client_instance.modelChecker(round_it)\n",
    "        return m\n",
    "    \n",
    "#     def client_model_caller(self, deets):\n",
    "#         client_instance, msg = deets\n",
    "#         round_it = msg.body['round']\n",
    "#         m = client_instance.recModelIpfs(round_it)\n",
    "#         return m\n",
    "\n",
    "    def get_ipfs_hash(self, target_node_blk, round_it, target_node_id):\n",
    "        contract = server.eth.contract(address=CONTRACT_ADDRESS, abi=CONTRACT_ABI)\n",
    "        msg = contract.functions.getIpfsHashForUser(target_node_blk, str(round_it)).call()\n",
    "        if(msg==''):\n",
    "            print(\"Round \"+str(round_it)+\" missing on blockchain for Node \"+str(target_node_id))\n",
    "            return 0\n",
    "        else:\n",
    "            return (msg)\n",
    "            \n",
    "\n",
    "    def client_model_caller(self, deets):\n",
    "        client_instance, msg = deets\n",
    "        round_it = msg.body['round']\n",
    "        target_node_blk = client_instance.client_blkchain_node\n",
    "        target_node_id = client_instance.client_id\n",
    "        ipfs_hash = self.get_ipfs_hash(target_node_blk, round_it, target_node_id)\n",
    "        if(ipfs_hash!=0):\n",
    "            m = self.recModelIpfs(round_it, ipfs_hash)\n",
    "            return m\n",
    "        else:\n",
    "            print(\"Couldn't retreive ipfs hash from blockchain.\")\n",
    "    \n",
    "    def client_train_caller(self, deets):\n",
    "        client_instance, msg = deets\n",
    "#         print(\"Training Caller: \", client_instance.client_id)\n",
    "        if(client_instance.client_id == self.client_id):\n",
    "            self.train_client(msg)\n",
    "        else:  \n",
    "            client_instance.train_client(msg)\n",
    "#         print(\"Training Caller 2: \", client_instance.client_id)\n",
    "            \n",
    "    \n",
    "    def get_nb_weights(self, round_it):\n",
    "        m = multiprocessing.Manager()\n",
    "        lock = m.Lock()\n",
    "        \n",
    "        with ThreadPool(len(self.neighbour_ids)) as calling_pool:\n",
    "            args = []\n",
    "            for cl in (self.neighbour_ids):\n",
    "                body = {'round': round_it, 'lock': lock}\n",
    "                msg = Message(self.client_id, cl, body)\n",
    "                args.append((allCl.clients[cl], msg))\n",
    "            msgs = calling_pool.map(self.client_modelCheck_caller, args)\n",
    "            msgs = np.array(msgs)\n",
    "        \n",
    "        untrained_nb = list(msgs[msgs!=None])\n",
    "        print(\"Current Node: \", self.client_id)\n",
    "        print(\"Untrained Neighbour: \", untrained_nb)\n",
    "        print(\"All neighbours: \", self.neighbour_ids)\n",
    "        if(len(untrained_nb)!=0):\n",
    "            with ThreadPool(len(untrained_nb)) as calling_pool:\n",
    "                args = []\n",
    "                for cl in (untrained_nb):\n",
    "                    body = {'round': round_it, 'lock': lock}\n",
    "                    msg = Message(self.client_id, cl, body)\n",
    "                    args.append((allCl.clients[cl], msg))\n",
    "                calling_pool.map(self.client_train_caller, args)\n",
    "                \n",
    "        with ThreadPool(len(self.neighbour_ids)) as calling_pool:\n",
    "            args = []\n",
    "            for cl in (self.neighbour_ids):\n",
    "                body = {'round': round_it, 'lock': lock}\n",
    "                msg = Message(self.client_id, cl, body)\n",
    "                args.append((allCl.clients[cl], msg))\n",
    "            msgs = calling_pool.map(self.client_model_caller, args)        \n",
    "        \n",
    "        time_start = datetime.now()\n",
    "        train_time = getTime(msgs)\n",
    "        \n",
    "        self.nb_weights[round_it] = []\n",
    "        self.nb_intercepts[round_it] = []\n",
    "        \n",
    "        for msg in msgs:\n",
    "            self.nb_weights[round_it].append(msg['weights'])\n",
    "            self.nb_intercepts[round_it].append(msg['intercepts'])\n",
    "        \n",
    "        time_stop = datetime.now()\n",
    "        fedtime = time_stop - time_start\n",
    "        totTime = fedtime+timedelta(train_time)\n",
    "        self.FedAvg(round_it)\n",
    "#         return msgs \n",
    "    \n",
    "    def FedAvg(self, round_it):\n",
    "        self.federated_weights[round_it] = np.average(self.nb_weights[round_it], axis=0)\n",
    "        self.federated_intercepts[round_it] = np.average(self.nb_intercepts[round_it], axis=0)\n",
    "    \n",
    "    def train_client(self, message):\n",
    "            training_flag = 0\n",
    "            training_over = 0\n",
    "            print(\"Training node \", self.client_id)\n",
    "            round_it = message.body['round']\n",
    "            start_time = datetime.now()\n",
    "            for epoch in range(len(self.client_datasets)):\n",
    "                if(training_flag==0):\n",
    "                    X = self.client_datasets[epoch].drop('y', axis=1)\n",
    "                    y = self.client_datasets[epoch]['y']\n",
    "                    weights, intercepts = self.compute_epoch(X, y, round_it, epoch, message.sender, self.client_id)\n",
    "\n",
    "                    if(epoch==0):\n",
    "                        try:\n",
    "                            self.personal_weights[round_it]\n",
    "                            training_flag = 1\n",
    "                        except:\n",
    "                            pass\n",
    "                            self.personal_weights[round_it] = []\n",
    "                            self.personal_intercepts[round_it] = []\n",
    "\n",
    "                    if(training_flag==0):\n",
    "                        self.personal_weights[round_it].append(weights)\n",
    "                        self.personal_intercepts[round_it].append(intercepts)\n",
    "\n",
    "            if(training_flag==0):\n",
    "                stop_time = datetime.now()\n",
    "                comp_time = stop_time - start_time\n",
    "                self.train_time[round_it] = comp_time\n",
    "                success = self.addModelIpfs(round_it)\n",
    "#                 print(\"Training finished for \", self.client_id)\n",
    "                if (success!=0):\n",
    "                    contract = server.eth.contract(address=CONTRACT_ADDRESS, abi=CONTRACT_ABI)\n",
    "                    tx_hash = contract.functions.addFile(str(round_it), success).transact({'from':self.client_blkchain_node})\n",
    "                    rec = server.eth.waitForTransactionReceipt(tx_hash)\n",
    "                    if(rec['status']!=1):\n",
    "                        print('TRANSACTION REVERTED BY BLOCKCHAIN')\n",
    "                    else:\n",
    "                        self.blkchain_update[round_it] = 1\n",
    "            else:\n",
    "                while(training_over==0):\n",
    "                    try:\n",
    "                        self.blkchain_update[round_it]\n",
    "                        training_over = 1\n",
    "#                         print(\"Training over\")\n",
    "                    except:\n",
    "                        time.sleep(1)\n",
    "                        \n",
    "#                 print(\"Client \", self.client_id, \" training already.\")\n",
    "            \n",
    "            \n",
    "                    \n",
    "    \n",
    "    def compute_epoch(self, X, y, round_it, epoch, sender, receiver):            \n",
    "            \n",
    "        lr = SGDClassifier(alpha=0.0001, loss=\"log\", random_state=0)\n",
    "\n",
    "        if (epoch >= 1):\n",
    "            try:\n",
    "                weights = copy.deepcopy(self.personal_weights[round_it][epoch - 1])\n",
    "                intercepts = copy.deepcopy(self.personal_intercepts[round_it][epoch - 1])\n",
    "            except:\n",
    "                print(\"Node: \", self.client_id)\n",
    "                print(\"Epoch: \", epoch-1)\n",
    "                print(\"Round: \", round_it)\n",
    "                time.sleep(3)\n",
    "                weights = copy.deepcopy(self.personal_weights[round_it][epoch - 1])\n",
    "                intercepts = copy.deepcopy(self.personal_intercepts[round_it][epoch - 1])\n",
    "                \n",
    "        else:\n",
    "            if(round_it>=1):\n",
    "                try:\n",
    "                    weights = copy.deepcopy(self.federated_weights[round_it - 1])\n",
    "                    intercepts = copy.deepcopy(self.federated_intercepts[round_it - 1])\n",
    "                    print(\"Federated weights set for epoch \", epoch, \" in round  \", round_it)\n",
    "                except: \n",
    "                    rounds_trained = len(self.nb_weights)\n",
    "                    while(rounds_trained<round_it):\n",
    "                        self.get_nb_weights(rounds_trained)\n",
    "                        rounds_trained+=1\n",
    "                    \n",
    "                    try:\n",
    "                        weights = copy.deepcopy(self.federated_weights[round_it - 1])\n",
    "                        intercepts = copy.deepcopy(self.federated_intercepts[round_it - 1])\n",
    "                    except:\n",
    "#                         print(\"Round: \", round_it)\n",
    "#                         print(\"Node: \", self.client_id)\n",
    "#                         print(\"Maxi var: \", maxi)\n",
    "                        weights = copy.deepcopy(self.federated_weights[round_it - 1])\n",
    "                        intercepts = copy.deepcopy(self.federated_intercepts[round_it - 1])\n",
    "            else:\n",
    "                weights = None\n",
    "                intercepts = None\n",
    "                \n",
    "        lr.fit(X, y, coef_init=weights, intercept_init=intercepts)\n",
    "        local_weights = lr.coef_\n",
    "        local_intercepts = lr.intercept_\n",
    "        \n",
    "        if(epoch==(len(self.client_datasets) - 1)):\n",
    "            acc = lr.score(self.test_dataset[['x1', 'x2']], self.test_dataset['y'])\n",
    "            self.personal_accuracy[round_it] = acc\n",
    "            \n",
    "        return local_weights, local_intercepts\n",
    "        \n",
    "#     def federated_averaging(self):\n",
    "        "
   ]
  },
  {
   "cell_type": "code",
   "execution_count": 11,
   "id": "a4dce9dc",
   "metadata": {},
   "outputs": [],
   "source": [
    "class AllClients:\n",
    "    def __init__(self, clients):\n",
    "        self.clients = clients\n",
    "        self.training = {int(client): False for client in range(CLIENTS)}\n",
    "        with open('training.json', 'w') as f:\n",
    "            json.dump(self.training, f)"
   ]
  },
  {
   "cell_type": "code",
   "execution_count": 12,
   "id": "b12d2661",
   "metadata": {},
   "outputs": [],
   "source": [
    "client_li = []\n",
    "for i in range(CLIENTS):\n",
    "    ag = Client(i, CLIENT_GRAPH[i], df_di[i], '.ipfs_fl'+str(i), BLKCHAIN_ACCOUNTS[i], test)\n",
    "    client_li.append(ag)\n",
    "\n",
    "allCl = AllClients(client_li)"
   ]
  },
  {
   "cell_type": "code",
   "execution_count": 13,
   "id": "2d15726d",
   "metadata": {},
   "outputs": [
    {
     "name": "stdout",
     "output_type": "stream",
     "text": [
      "Current Node:  0\n",
      "Untrained Neighbour:  [1, 2, 0]\n",
      "All neighbours:  [1, 2, 0]\n",
      "Training node  1\n",
      "Training node  2\n",
      "Training node  0\n"
     ]
    },
    {
     "name": "stderr",
     "output_type": "stream",
     "text": [
      "\r",
      " 360 B / ? \u001b[2K\r",
      "\r",
      " 360 B / 360 B  100.00%\r",
      " 358 B / ? \r",
      " 354 B / 354 B  100.00%\u001b[2K\r",
      "\r",
      " 358 B / 358 B  100.00%\u001b[2K\r",
      "\r",
      " 354 B / 354 B  100.00%"
     ]
    }
   ],
   "source": [
    "allCl.clients[0].get_nb_weights(0)"
   ]
  },
  {
   "cell_type": "code",
   "execution_count": 14,
   "id": "170fe42c",
   "metadata": {},
   "outputs": [],
   "source": [
    "def printLengths(clients, round_it):\n",
    "    for i in range(len(clients.clients)):\n",
    "        try:\n",
    "            print(i,' ',len(clients.clients[i].personal_intercepts[round_it]))\n",
    "        except:\n",
    "            print(i,'  0')"
   ]
  },
  {
   "cell_type": "code",
   "execution_count": 15,
   "id": "404452ba",
   "metadata": {},
   "outputs": [
    {
     "name": "stdout",
     "output_type": "stream",
     "text": [
      "0   10\n",
      "1   10\n",
      "2   10\n",
      "3   0\n"
     ]
    }
   ],
   "source": [
    "printLengths(allCl, 0)"
   ]
  },
  {
   "cell_type": "code",
   "execution_count": 16,
   "id": "ccf246ff",
   "metadata": {},
   "outputs": [
    {
     "name": "stdout",
     "output_type": "stream",
     "text": [
      "Current Node:  0\n",
      "Untrained Neighbour:  [1, 2, 0]\n",
      "All neighbours:  [1, 2, 0]\n",
      "Training node  1\n",
      "Training node  Training node  0\n",
      "Federated weights set for epoch  20  in round   1\n",
      "\n",
      "Current Node:  1\n",
      "Untrained Neighbour:  [3]\n",
      "All neighbours:  [0, 3, 1]\n",
      "Current Node:  2Training node  3\n",
      "\n",
      "Untrained Neighbour:  [3]\n",
      "All neighbours:  [0, 3, 2]\n",
      "Training node  3\n"
     ]
    },
    {
     "name": "stderr",
     "output_type": "stream",
     "text": [
      " 359 B / 359 B  100.00%"
     ]
    },
    {
     "name": "stdout",
     "output_type": "stream",
     "text": [
      "0   10\n",
      "1   10\n",
      "2   10\n",
      "3   10\n"
     ]
    }
   ],
   "source": [
    "allCl.clients[0].get_nb_weights(1)\n",
    "printLengths(allCl, 0)"
   ]
  },
  {
   "cell_type": "code",
   "execution_count": 17,
   "id": "35757151",
   "metadata": {},
   "outputs": [
    {
     "name": "stdout",
     "output_type": "stream",
     "text": [
      "Current Node:  0\n",
      "Untrained Neighbour:  [1, 2, 0]\n",
      "All neighbours:  [1, 2, 0]\n",
      "Training node  1\n",
      "Training node  2\n",
      "Training node  0\n",
      "Current Node:  1\n",
      "Untrained Neighbour:  [3]\n",
      "All neighbours:  [0, 3, 1]\n",
      "Current Node:  2Training node  3\n",
      "\n",
      "Untrained Neighbour:  [3]\n",
      "All neighbours:  [0, 3, 2]\n",
      "Training node  3\n",
      "Current Node:  3Current Node:  3\n",
      "Untrained Neighbour:  []\n",
      "All neighbours:  [1, 2, 3]\n",
      "\n",
      "Untrained Neighbour:  []\n",
      "All neighbours:  [1, 2, 3]\n"
     ]
    },
    {
     "name": "stderr",
     "output_type": "stream",
     "text": [
      " 354 B / 354 B  100.00%\u001b[2K"
     ]
    }
   ],
   "source": [
    "allCl.clients[0].get_nb_weights(2)"
   ]
  },
  {
   "cell_type": "code",
   "execution_count": 18,
   "id": "a021d8ce",
   "metadata": {},
   "outputs": [
    {
     "name": "stdout",
     "output_type": "stream",
     "text": [
      "0   10\n",
      "1   10\n",
      "2   10\n",
      "3   10\n",
      "\n",
      "0   10\n",
      "1   10\n",
      "2   10\n",
      "3   10\n",
      "\n",
      "0   10\n",
      "1   10\n",
      "2   10\n",
      "3   0\n",
      "\n",
      "0   0\n",
      "1   0\n",
      "2   0\n",
      "3   0\n"
     ]
    }
   ],
   "source": [
    "printLengths(allCl, 0)\n",
    "print()\n",
    "printLengths(allCl, 1)\n",
    "print()\n",
    "printLengths(allCl, 2)\n",
    "print()\n",
    "printLengths(allCl, 3)"
   ]
  },
  {
   "cell_type": "code",
   "execution_count": 19,
   "id": "31b6a8d5",
   "metadata": {},
   "outputs": [
    {
     "name": "stdout",
     "output_type": "stream",
     "text": [
      "Current Node:  0\n",
      "Untrained Neighbour:  [1, 2, 0]\n",
      "All neighbours:  [1, 2, 0]\n",
      "Training node  1\n",
      "Training node  2\n",
      "Training node  0\n",
      "Current Node:  2\n",
      "Untrained Neighbour:  [3]\n",
      "All neighbours:  [0, 3, 2]\n",
      "Training node  3\n",
      "Current Node:  1\n",
      "Untrained Neighbour:  [3]\n",
      "All neighbours:  [0, 3, 1]\n",
      "Training node  3\n",
      "Current Node:  3\n",
      "Untrained Neighbour:  []\n",
      "All neighbours:  [1, 2, 3]\n",
      "Current Node:  3\n",
      "Untrained Neighbour:  []\n",
      "All neighbours:  [1, 2, 3]\n"
     ]
    },
    {
     "name": "stderr",
     "output_type": "stream",
     "text": [
      " 354 B / 354 B  100.00%"
     ]
    }
   ],
   "source": [
    "allCl.clients[0].get_nb_weights(3)"
   ]
  },
  {
   "cell_type": "code",
   "execution_count": 22,
   "id": "bd85ac03",
   "metadata": {},
   "outputs": [
    {
     "name": "stdout",
     "output_type": "stream",
     "text": [
      "0   10\n",
      "1   10\n",
      "2   10\n",
      "3   10\n",
      "\n",
      "0   10\n",
      "1   10\n",
      "2   10\n",
      "3   10\n",
      "\n",
      "0   10\n",
      "1   10\n",
      "2   10\n",
      "3   10\n",
      "\n",
      "0   10\n",
      "1   10\n",
      "2   10\n",
      "3   0\n"
     ]
    }
   ],
   "source": [
    "printLengths(allCl, 0)\n",
    "print()\n",
    "printLengths(allCl, 1)\n",
    "print()\n",
    "printLengths(allCl, 2)\n",
    "print()\n",
    "printLengths(allCl, 3)"
   ]
  },
  {
   "cell_type": "code",
   "execution_count": 23,
   "id": "44cafa25",
   "metadata": {},
   "outputs": [
    {
     "name": "stdout",
     "output_type": "stream",
     "text": [
      "Current Node:  0\n",
      "Untrained Neighbour:  [1, 2, 0]\n",
      "All neighbours:  [1, 2, 0]\n",
      "Training node  1\n",
      "Training node  2\n",
      "Training node  0\n",
      "Current Node:  1\n",
      "Untrained Neighbour:  [3]\n",
      "All neighbours:  [0, 3, 1]\n",
      "Current Node:  2\n",
      "Untrained Neighbour:  [3]\n",
      "All neighbours:  [0, 3, 2]\n",
      "Training node  3\n",
      "Training node  3\n",
      "Current Node:  3\n",
      "Untrained Neighbour:  []\n",
      "All neighbours:  [1, 2, 3]\n",
      "Current Node:  3\n",
      "Untrained Neighbour:  []\n",
      "All neighbours:  [1, 2, 3]\n",
      "Training finished for  0\n"
     ]
    },
    {
     "name": "stderr",
     "output_type": "stream",
     "text": [
      "\r",
      " 358 B / ? \u001b[2K\r",
      "\r",
      " 358 B / 358 B  100.00%"
     ]
    },
    {
     "name": "stdout",
     "output_type": "stream",
     "text": [
      "Training Caller 2:  0\n"
     ]
    },
    {
     "name": "stderr",
     "output_type": "stream",
     "text": [
      "\r",
      " 355 B / ? \u001b[2K\r",
      "\r",
      " 355 B / 355 B  100.00%"
     ]
    },
    {
     "name": "stdout",
     "output_type": "stream",
     "text": [
      "Training finished for  3\n",
      "Training Caller 2:  3\n",
      "Training over\n",
      "Client  3  training already.\n",
      "Training Caller 2:  3\n"
     ]
    },
    {
     "name": "stderr",
     "output_type": "stream",
     "text": [
      "\r",
      " 358 B / ? \u001b[2K\r",
      "\r",
      " 358 B / 358 B  100.00%\r",
      " 354 B / ? \u001b[2K\r",
      "\r",
      " 354 B / 354 B  100.00%"
     ]
    },
    {
     "name": "stdout",
     "output_type": "stream",
     "text": [
      "Training finished for  2\n",
      "Training finished for  1\n",
      "Training Caller 2:  2\n",
      "Training Caller 2:  1\n"
     ]
    }
   ],
   "source": [
    "allCl.clients[0].get_nb_weights(4)"
   ]
  },
  {
   "cell_type": "code",
   "execution_count": 24,
   "id": "a2ff26c6",
   "metadata": {},
   "outputs": [
    {
     "name": "stdout",
     "output_type": "stream",
     "text": [
      "0   10\n",
      "1   10\n",
      "2   10\n",
      "3   10\n",
      "\n",
      "0   10\n",
      "1   10\n",
      "2   10\n",
      "3   10\n",
      "\n",
      "0   10\n",
      "1   10\n",
      "2   10\n",
      "3   10\n",
      "\n",
      "0   10\n",
      "1   10\n",
      "2   10\n",
      "3   10\n",
      "\n"
     ]
    }
   ],
   "source": [
    "printLengths(allCl, 0)\n",
    "print()\n",
    "printLengths(allCl, 1)\n",
    "print()\n",
    "printLengths(allCl, 2)\n",
    "print()\n",
    "printLengths(allCl, 3)\n",
    "print()\n",
    "printLengths(allCl, 4)"
   ]
  },
  {
   "cell_type": "code",
   "execution_count": 25,
   "id": "8c53b157",
   "metadata": {},
   "outputs": [
    {
     "name": "stdout",
     "output_type": "stream",
     "text": [
      "Current Node:  0\n",
      "Untrained Neighbour:  [1, 2, 0]\n",
      "All neighbours:  [1, 2, 0]\n",
      "Training node  1\n",
      "Training node  2\n",
      "Training node  0\n",
      "Current Node:  1\n",
      "Current Node:  2\n",
      "Untrained Neighbour: Untrained Neighbour:  [3]\n",
      "All neighbours:   [3]\n",
      "All neighbours:  [0, 3, 2]\n",
      "[0, 3, 1]\n",
      "Training node  3\n",
      "Training node  3\n",
      "Current Node: Current Node:   3\n",
      "Untrained Neighbour:  []\n",
      "All neighbours:  [1, 2, 3]3\n",
      "Untrained Neighbour:  []\n",
      "All neighbours:  \n",
      "[1, 2, 3]\n",
      "Training finished for  0\n"
     ]
    },
    {
     "name": "stderr",
     "output_type": "stream",
     "text": [
      "\r",
      " 358 B / 358 B  100.00%\u001b[2K\r",
      "\r",
      " 358 B / 358 B  100.00%"
     ]
    },
    {
     "name": "stdout",
     "output_type": "stream",
     "text": [
      "Training Caller 2:  0\n",
      "Training finished for  3\n"
     ]
    },
    {
     "name": "stderr",
     "output_type": "stream",
     "text": [
      "\r",
      " 355 B / 355 B  100.00%\u001b[2K\r",
      "\r",
      " 355 B / 355 B  100.00%"
     ]
    },
    {
     "name": "stdout",
     "output_type": "stream",
     "text": [
      "Training Caller 2:  3\n"
     ]
    },
    {
     "name": "stderr",
     "output_type": "stream",
     "text": [
      "\r",
      " 354 B / ? \u001b[2K\r",
      "\r",
      " 354 B / 354 B  100.00%"
     ]
    },
    {
     "name": "stdout",
     "output_type": "stream",
     "text": [
      "Training finished for  1\n",
      "Training Caller 2:  1\n",
      "Training over\n",
      "Client  3  training already.\n",
      "Training Caller 2:  3\n"
     ]
    },
    {
     "name": "stderr",
     "output_type": "stream",
     "text": [
      "\r",
      " 360 B / ? \u001b[2K\r",
      "\r",
      " 360 B / 360 B  100.00%"
     ]
    },
    {
     "name": "stdout",
     "output_type": "stream",
     "text": [
      "Training finished for  2\n",
      "Training Caller 2:  2\n"
     ]
    }
   ],
   "source": [
    "allCl.clients[0].get_nb_weights(5)"
   ]
  },
  {
   "cell_type": "code",
   "execution_count": 27,
   "id": "2df0abf8",
   "metadata": {},
   "outputs": [
    {
     "name": "stdout",
     "output_type": "stream",
     "text": [
      "0   10\n",
      "1   10\n",
      "2   10\n",
      "3   10\n",
      "\n",
      "0   10\n",
      "1   10\n",
      "2   10\n",
      "3   10\n",
      "\n",
      "0   10\n",
      "1   10\n",
      "2   10\n",
      "3   10\n",
      "\n",
      "0   10\n",
      "1   10\n",
      "2   10\n",
      "3   10\n",
      "\n",
      "0   10\n",
      "1   10\n",
      "2   10\n",
      "3   10\n",
      "\n",
      "0   10\n",
      "1   10\n",
      "2   10\n",
      "3   0\n"
     ]
    }
   ],
   "source": [
    "printLengths(allCl, 0)\n",
    "print()\n",
    "printLengths(allCl, 1)\n",
    "print()\n",
    "printLengths(allCl, 2)\n",
    "print()\n",
    "printLengths(allCl, 3)\n",
    "print()\n",
    "printLengths(allCl, 4)\n",
    "print()\n",
    "printLengths(allCl, 5)"
   ]
  },
  {
   "cell_type": "code",
   "execution_count": 27,
   "id": "246ddc2d",
   "metadata": {},
   "outputs": [
    {
     "data": {
      "text/plain": [
       "{0: array([-4.43722862, -2.47253855,  2.71434389, -0.83139894, -4.84719159]),\n",
       " 1: array([-4.43722862, -2.47253855,  2.71434389, -0.83139894, -4.84719159]),\n",
       " 2: array([-4.43722862, -2.47253855,  2.71434389, -0.83139894, -4.84719159]),\n",
       " 3: array([-4.43722862, -2.47253855,  2.71434389, -0.83139894, -4.84719159])}"
      ]
     },
     "execution_count": 27,
     "metadata": {},
     "output_type": "execute_result"
    }
   ],
   "source": [
    "allCl.clients[0].federated_intercepts"
   ]
  },
  {
   "cell_type": "code",
   "execution_count": 24,
   "id": "b67b11a5",
   "metadata": {},
   "outputs": [
    {
     "data": {
      "text/plain": [
       "{0: 0.19}"
      ]
     },
     "execution_count": 24,
     "metadata": {},
     "output_type": "execute_result"
    }
   ],
   "source": [
    "allCl.clients[3].personal_accuracy"
   ]
  },
  {
   "cell_type": "code",
   "execution_count": 17,
   "id": "2d100e7f",
   "metadata": {},
   "outputs": [
    {
     "data": {
      "text/plain": [
       "[[-9.08828927688947,\n",
       "  -1.897113601450453,\n",
       "  3.324919978719681,\n",
       "  -3.607171033290969,\n",
       "  -5.6914308345434925],\n",
       " [-2.7825014532674115,\n",
       "  -1.9163357277199058,\n",
       "  1.4142788785330778,\n",
       "  7.635749088239045,\n",
       "  -9.203838156493957],\n",
       " [-1.4408951288098966,\n",
       "  -3.6041663195640137,\n",
       "  3.4038328221333707,\n",
       "  -6.522774884794829,\n",
       "  0.35369420967760234]]"
      ]
     },
     "execution_count": 17,
     "metadata": {},
     "output_type": "execute_result"
    }
   ],
   "source": [
    "allCl.clients[0].nb_intercepts[0]"
   ]
  },
  {
   "cell_type": "code",
   "execution_count": 20,
   "id": "c11e835d",
   "metadata": {},
   "outputs": [
    {
     "data": {
      "text/plain": [
       "[[-9.08828927688947,\n",
       "  -1.897113601450453,\n",
       "  3.324919978719681,\n",
       "  -3.607171033290969,\n",
       "  -5.6914308345434925],\n",
       " [-2.7825014532674115,\n",
       "  -1.9163357277199058,\n",
       "  1.4142788785330778,\n",
       "  7.635749088239045,\n",
       "  -9.203838156493957],\n",
       " [-1.4408951288098966,\n",
       "  -3.6041663195640137,\n",
       "  3.4038328221333707,\n",
       "  -6.522774884794829,\n",
       "  0.35369420967760234]]"
      ]
     },
     "execution_count": 20,
     "metadata": {},
     "output_type": "execute_result"
    }
   ],
   "source": [
    "allCl.clients[0].nb_intercepts[1]"
   ]
  },
  {
   "cell_type": "code",
   "execution_count": 10,
   "id": "f72cfbe6",
   "metadata": {},
   "outputs": [],
   "source": [
    "def client_computation_caller(inp):\n",
    "    client_instance, body = inp\n",
    "    return_message = client_instance.train_client(body['round'])\n",
    "    return return_message"
   ]
  },
  {
   "cell_type": "code",
   "execution_count": 11,
   "id": "46714f27",
   "metadata": {},
   "outputs": [],
   "source": [
    "for ro in range(ROUNDS):\n",
    "    m = multiprocessing.Manager()\n",
    "    lock = m.Lock()\n",
    "    with ThreadPool(CLIENTS) as calling_pool:\n",
    "        args = []\n",
    "        for cl in range(CLIENTS):\n",
    "            body = {'round': ro, 'lock': lock}\n",
    "            args.append((allCl.clients[cl], body))\n",
    "        calling_pool.map(client_computation_caller, args)"
   ]
  },
  {
   "cell_type": "code",
   "execution_count": 46,
   "id": "841d8428",
   "metadata": {},
   "outputs": [
    {
     "data": {
      "text/plain": [
       "[array([-1.19024283, -8.22172283, -9.42661473, -3.97311779, -4.33640538]),\n",
       " array([-10.33395532,   3.24845949,   5.356186  ,  -9.3852317 ,\n",
       "         -2.30635674]),\n",
       " array([-10.55145539, -12.46190679,   0.64291909,  -1.13745339,\n",
       "         -0.18818607]),\n",
       " array([  0.52149334, -16.64293375,  -6.27774062,  -0.99584345,\n",
       "         -0.70731457]),\n",
       " array([-1.44089513, -3.60416632,  3.40383282, -6.52277488,  0.35369421])]"
      ]
     },
     "execution_count": 46,
     "metadata": {},
     "output_type": "execute_result"
    }
   ],
   "source": [
    "allCl.clients[1].personal_intercepts[0]"
   ]
  },
  {
   "cell_type": "code",
   "execution_count": null,
   "id": "07751a71",
   "metadata": {},
   "outputs": [],
   "source": []
  }
 ],
 "metadata": {
  "kernelspec": {
   "display_name": "Python 3 (ipykernel)",
   "language": "python",
   "name": "python3"
  },
  "language_info": {
   "codemirror_mode": {
    "name": "ipython",
    "version": 3
   },
   "file_extension": ".py",
   "mimetype": "text/x-python",
   "name": "python",
   "nbconvert_exporter": "python",
   "pygments_lexer": "ipython3",
   "version": "3.8.10"
  }
 },
 "nbformat": 4,
 "nbformat_minor": 5
}
